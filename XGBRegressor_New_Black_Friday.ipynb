{
 "cells": [
  {
   "cell_type": "code",
   "execution_count": 1,
   "metadata": {},
   "outputs": [],
   "source": [
    "from IPython.core.interactiveshell import InteractiveShell\n",
    "InteractiveShell.ast_node_interactivity = 'all'"
   ]
  },
  {
   "cell_type": "code",
   "execution_count": 2,
   "metadata": {},
   "outputs": [],
   "source": [
    "import matplotlib\n",
    "import numpy as np\n",
    "import matplotlib.pyplot as plt\n",
    "import pandas as pd"
   ]
  },
  {
   "cell_type": "markdown",
   "metadata": {},
   "source": [
    "### Basic Situation"
   ]
  },
  {
   "cell_type": "code",
   "execution_count": 3,
   "metadata": {},
   "outputs": [],
   "source": [
    "train = pd.read_csv('new_df.csv')\n",
    "test = pd.read_csv('test.csv')"
   ]
  },
  {
   "cell_type": "code",
   "execution_count": 4,
   "metadata": {},
   "outputs": [
    {
     "data": {
      "text/html": [
       "<div>\n",
       "<style scoped>\n",
       "    .dataframe tbody tr th:only-of-type {\n",
       "        vertical-align: middle;\n",
       "    }\n",
       "\n",
       "    .dataframe tbody tr th {\n",
       "        vertical-align: top;\n",
       "    }\n",
       "\n",
       "    .dataframe thead th {\n",
       "        text-align: right;\n",
       "    }\n",
       "</style>\n",
       "<table border=\"1\" class=\"dataframe\">\n",
       "  <thead>\n",
       "    <tr style=\"text-align: right;\">\n",
       "      <th></th>\n",
       "      <th>Unnamed: 0</th>\n",
       "      <th>User_ID_x</th>\n",
       "      <th>Product_ID_x</th>\n",
       "      <th>Gender</th>\n",
       "      <th>Age</th>\n",
       "      <th>Occupation</th>\n",
       "      <th>City_Category</th>\n",
       "      <th>Stay_In_Current_City_Years</th>\n",
       "      <th>Marital_Status</th>\n",
       "      <th>Product_Category_1</th>\n",
       "      <th>...</th>\n",
       "      <th>Max_purchase_price</th>\n",
       "      <th>Quantity_sold</th>\n",
       "      <th>Popular_item</th>\n",
       "      <th>Amount_user_spent</th>\n",
       "      <th>High_spender</th>\n",
       "      <th>User_category</th>\n",
       "      <th>Paid_more_avg</th>\n",
       "      <th>Num_Paid_more_avg</th>\n",
       "      <th>propHigh</th>\n",
       "      <th>luxury</th>\n",
       "    </tr>\n",
       "  </thead>\n",
       "  <tbody>\n",
       "    <tr>\n",
       "      <th>0</th>\n",
       "      <td>0</td>\n",
       "      <td>1000001</td>\n",
       "      <td>P00069042</td>\n",
       "      <td>F</td>\n",
       "      <td>0-17</td>\n",
       "      <td>10</td>\n",
       "      <td>A</td>\n",
       "      <td>2</td>\n",
       "      <td>0</td>\n",
       "      <td>3</td>\n",
       "      <td>...</td>\n",
       "      <td>13716</td>\n",
       "      <td>227</td>\n",
       "      <td>0</td>\n",
       "      <td>334093</td>\n",
       "      <td>0</td>\n",
       "      <td>1</td>\n",
       "      <td>0</td>\n",
       "      <td>19</td>\n",
       "      <td>0.542857</td>\n",
       "      <td>0</td>\n",
       "    </tr>\n",
       "    <tr>\n",
       "      <th>1</th>\n",
       "      <td>1</td>\n",
       "      <td>1000017</td>\n",
       "      <td>P00069042</td>\n",
       "      <td>M</td>\n",
       "      <td>51-55</td>\n",
       "      <td>1</td>\n",
       "      <td>C</td>\n",
       "      <td>0</td>\n",
       "      <td>0</td>\n",
       "      <td>3</td>\n",
       "      <td>...</td>\n",
       "      <td>13716</td>\n",
       "      <td>227</td>\n",
       "      <td>0</td>\n",
       "      <td>1425995</td>\n",
       "      <td>0</td>\n",
       "      <td>5</td>\n",
       "      <td>1</td>\n",
       "      <td>85</td>\n",
       "      <td>0.739130</td>\n",
       "      <td>1</td>\n",
       "    </tr>\n",
       "    <tr>\n",
       "      <th>2</th>\n",
       "      <td>2</td>\n",
       "      <td>1000023</td>\n",
       "      <td>P00069042</td>\n",
       "      <td>M</td>\n",
       "      <td>36-45</td>\n",
       "      <td>0</td>\n",
       "      <td>B</td>\n",
       "      <td>3</td>\n",
       "      <td>1</td>\n",
       "      <td>3</td>\n",
       "      <td>...</td>\n",
       "      <td>13716</td>\n",
       "      <td>227</td>\n",
       "      <td>0</td>\n",
       "      <td>1670998</td>\n",
       "      <td>0</td>\n",
       "      <td>6</td>\n",
       "      <td>0</td>\n",
       "      <td>60</td>\n",
       "      <td>0.350877</td>\n",
       "      <td>0</td>\n",
       "    </tr>\n",
       "    <tr>\n",
       "      <th>3</th>\n",
       "      <td>3</td>\n",
       "      <td>1000030</td>\n",
       "      <td>P00069042</td>\n",
       "      <td>F</td>\n",
       "      <td>36-45</td>\n",
       "      <td>7</td>\n",
       "      <td>C</td>\n",
       "      <td>3</td>\n",
       "      <td>0</td>\n",
       "      <td>3</td>\n",
       "      <td>...</td>\n",
       "      <td>13716</td>\n",
       "      <td>227</td>\n",
       "      <td>0</td>\n",
       "      <td>261584</td>\n",
       "      <td>0</td>\n",
       "      <td>1</td>\n",
       "      <td>0</td>\n",
       "      <td>10</td>\n",
       "      <td>0.322581</td>\n",
       "      <td>0</td>\n",
       "    </tr>\n",
       "    <tr>\n",
       "      <th>4</th>\n",
       "      <td>4</td>\n",
       "      <td>1000073</td>\n",
       "      <td>P00069042</td>\n",
       "      <td>M</td>\n",
       "      <td>18-25</td>\n",
       "      <td>4</td>\n",
       "      <td>A</td>\n",
       "      <td>4+</td>\n",
       "      <td>0</td>\n",
       "      <td>3</td>\n",
       "      <td>...</td>\n",
       "      <td>13716</td>\n",
       "      <td>227</td>\n",
       "      <td>0</td>\n",
       "      <td>1428303</td>\n",
       "      <td>0</td>\n",
       "      <td>5</td>\n",
       "      <td>0</td>\n",
       "      <td>70</td>\n",
       "      <td>0.522388</td>\n",
       "      <td>0</td>\n",
       "    </tr>\n",
       "  </tbody>\n",
       "</table>\n",
       "<p>5 rows × 26 columns</p>\n",
       "</div>"
      ],
      "text/plain": [
       "   Unnamed: 0  User_ID_x Product_ID_x Gender    Age  Occupation City_Category  \\\n",
       "0           0    1000001    P00069042      F   0-17          10             A   \n",
       "1           1    1000017    P00069042      M  51-55           1             C   \n",
       "2           2    1000023    P00069042      M  36-45           0             B   \n",
       "3           3    1000030    P00069042      F  36-45           7             C   \n",
       "4           4    1000073    P00069042      M  18-25           4             A   \n",
       "\n",
       "  Stay_In_Current_City_Years  Marital_Status  Product_Category_1   ...    \\\n",
       "0                          2               0                   3   ...     \n",
       "1                          0               0                   3   ...     \n",
       "2                          3               1                   3   ...     \n",
       "3                          3               0                   3   ...     \n",
       "4                         4+               0                   3   ...     \n",
       "\n",
       "   Max_purchase_price  Quantity_sold  Popular_item  Amount_user_spent  \\\n",
       "0               13716            227             0             334093   \n",
       "1               13716            227             0            1425995   \n",
       "2               13716            227             0            1670998   \n",
       "3               13716            227             0             261584   \n",
       "4               13716            227             0            1428303   \n",
       "\n",
       "   High_spender  User_category  Paid_more_avg  Num_Paid_more_avg  propHigh  \\\n",
       "0             0              1              0                 19  0.542857   \n",
       "1             0              5              1                 85  0.739130   \n",
       "2             0              6              0                 60  0.350877   \n",
       "3             0              1              0                 10  0.322581   \n",
       "4             0              5              0                 70  0.522388   \n",
       "\n",
       "   luxury  \n",
       "0       0  \n",
       "1       1  \n",
       "2       0  \n",
       "3       0  \n",
       "4       0  \n",
       "\n",
       "[5 rows x 26 columns]"
      ]
     },
     "execution_count": 4,
     "metadata": {},
     "output_type": "execute_result"
    }
   ],
   "source": [
    "train.head()"
   ]
  },
  {
   "cell_type": "code",
   "execution_count": 5,
   "metadata": {},
   "outputs": [],
   "source": [
    "train=train.iloc[:,1:]"
   ]
  },
  {
   "cell_type": "code",
   "execution_count": null,
   "metadata": {
    "scrolled": false
   },
   "outputs": [],
   "source": [
    "train.isnull().sum()\n",
    "# Based on result, we only have two columns with missing data of 32% missing and 70% missing, suggest to drop based on importance"
   ]
  },
  {
   "cell_type": "code",
   "execution_count": 7,
   "metadata": {
    "scrolled": true
   },
   "outputs": [],
   "source": [
    "#deal with missing data\n",
    "train.fillna(0,inplace=True)"
   ]
  },
  {
   "cell_type": "code",
   "execution_count": 8,
   "metadata": {},
   "outputs": [
    {
     "data": {
      "text/plain": [
       "0"
      ]
     },
     "execution_count": 8,
     "metadata": {},
     "output_type": "execute_result"
    }
   ],
   "source": [
    "#double check null values\n",
    "train.isnull().sum().max()"
   ]
  },
  {
   "cell_type": "code",
   "execution_count": 9,
   "metadata": {},
   "outputs": [],
   "source": [
    "# deal with product_id before dummy columns by changing them to int\n",
    "train['Product_ID_x']=train['Product_ID_x'].str.replace('P','')\n",
    "train['Product_ID_x']=pd.to_numeric(train['Product_ID_x'])"
   ]
  },
  {
   "cell_type": "markdown",
   "metadata": {},
   "source": [
    "### Resons to drop Product_category_2 & Product_category_3\n",
    "    1. Category2 has null value ratio of 32% and Category 3 has 70%. So these are not only the only 2 columns with null, but also the percentage of null with higher ratio than normal\n",
    "    2. Category 2 is highly correlated with category 1 based on current value (plz check the results in another notebook)"
   ]
  },
  {
   "cell_type": "code",
   "execution_count": 31,
   "metadata": {},
   "outputs": [],
   "source": [
    "# Drop columns to save only model related columns\n",
    "feature_=train[['User_ID_x','Product_ID_x','Gender','Age','Occupation','City_Category','Stay_In_Current_City_Years','Marital_Status','Product_Category_1','User_prod_bought','Quantity_sold','Popular_item']]\n",
    "target=train.Purchase_price_x"
   ]
  },
  {
   "cell_type": "code",
   "execution_count": 32,
   "metadata": {},
   "outputs": [],
   "source": [
    "# preprocess whole dataset\n",
    "feature_ = pd.get_dummies(feature_, prefix_sep='_', drop_first=True)"
   ]
  },
  {
   "cell_type": "markdown",
   "metadata": {},
   "source": [
    "### Fit XGBoost"
   ]
  },
  {
   "cell_type": "code",
   "execution_count": 34,
   "metadata": {},
   "outputs": [],
   "source": [
    "import xgboost as xgb\n",
    "# conver data to DMatrix for xgb\n",
    "dmatrix= xgb.DMatrix(feature_.values, label=target, missing=np.nan)"
   ]
  },
  {
   "cell_type": "code",
   "execution_count": 35,
   "metadata": {},
   "outputs": [],
   "source": [
    "untuned_xgb_param = {'objective': 'reg:linear', 'booster': 'gbtree', 'silent': 1,\n",
    "        'max_depth': 8, 'eta': 0.1, \n",
    "        'subsample': 0.8, 'colsample_bytree': 0.8, 'min_child_weight': 10,\n",
    "        'metrics':'rmse'}"
   ]
  },
  {
   "cell_type": "code",
   "execution_count": null,
   "metadata": {
    "scrolled": true
   },
   "outputs": [],
   "source": [
    "untuned_cv_rmse=xgb.cv(dtrain=dmatrix, params=untuned_xgb_param, nfold=5, seed=123, num_boost_round=690 ,early_stopping_rounds=10)\n",
    "untuned_cv_rmse"
   ]
  },
  {
   "cell_type": "code",
   "execution_count": 37,
   "metadata": {
    "scrolled": true
   },
   "outputs": [
    {
     "data": {
      "text/plain": [
       "2614.090729163188"
      ]
     },
     "execution_count": 37,
     "metadata": {},
     "output_type": "execute_result"
    }
   ],
   "source": [
    "untuned_cv_rmse['test-rmse-mean'].mean()"
   ]
  },
  {
   "cell_type": "code",
   "execution_count": 38,
   "metadata": {
    "scrolled": true
   },
   "outputs": [],
   "source": [
    "# apply untuned hyperparameters to model to fit (better cv results)\n",
    "xgb_reg=xgb.XGBRegressor(objective='reg:linear', booster='gbtree',\n",
    "        max_depth= 8, eta= 0.1, \n",
    "        subsample=0.8, colsample_bytree=0.8, min_child_weight=10,\n",
    "        )"
   ]
  },
  {
   "cell_type": "code",
   "execution_count": 39,
   "metadata": {
    "scrolled": false
   },
   "outputs": [
    {
     "data": {
      "text/plain": [
       "XGBRegressor(base_score=0.5, booster='gbtree', colsample_bylevel=1,\n",
       "       colsample_bytree=0.8, eta=0.1, gamma=0, learning_rate=0.1,\n",
       "       max_delta_step=0, max_depth=8, min_child_weight=10, missing=None,\n",
       "       n_estimators=100, n_jobs=1, nthread=None, objective='reg:linear',\n",
       "       random_state=0, reg_alpha=0, reg_lambda=1, scale_pos_weight=1,\n",
       "       seed=None, silent=True, subsample=0.8)"
      ]
     },
     "execution_count": 39,
     "metadata": {},
     "output_type": "execute_result"
    }
   ],
   "source": [
    "xgb_reg.fit(feature_, target)"
   ]
  },
  {
   "cell_type": "code",
   "execution_count": 44,
   "metadata": {
    "scrolled": false
   },
   "outputs": [
    {
     "data": {
      "text/plain": [
       "<matplotlib.axes._subplots.AxesSubplot at 0x1120bc1d0>"
      ]
     },
     "execution_count": 44,
     "metadata": {},
     "output_type": "execute_result"
    },
    {
     "data": {
      "text/plain": [
       "Text(0, 0.5, 'Feature Importance Score')"
      ]
     },
     "execution_count": 44,
     "metadata": {},
     "output_type": "execute_result"
    },
    {
     "data": {
      "image/png": "[encoded data removed]",
      "text/plain": [
       "<Figure size 432x288 with 1 Axes>"
      ]
     },
     "metadata": {},
     "output_type": "display_data"
    }
   ],
   "source": [
    "feat_imp = pd.Series(xgb_reg.feature_importances_, index=feature_.columns).sort_values(ascending=False).nlargest(10)\n",
    "feat_imp.plot(kind='bar', title='Feature Importances_XGBRegressor')\n",
    "plt.ylabel('Feature Importance Score')"
   ]
  },
  {
   "cell_type": "markdown",
   "metadata": {},
   "source": [
    "### Summary:\n",
    "    1. Boosting examples show better results so far \n",
    "    If we look at the feature importance, we can find the newly added columns: ’Quatity_sold’ & ‘User_prod_bought’ are good features of high importance to both model and we did well in feature engineering, which serves as reverse engineering that we did well in feature engineering\n",
    "    2. How to understand this rmse?\n",
    "    Our target 'Purchase' column has mean value of 9263 and std of 5023, with the maximum value of 24000, 2614 is not a big trouble. \n",
    "    3. Possible Reasons:\n",
    "    3.1 144 out of 3631 is 4% of the whole products have stable selling price, while the other 96% of products have price change which will bring high variance to our prediction. However, based on the private dataset we have, it's hard to set up criteria to drop which data points as outliers. For future reference, we wish to get more clearity of data and make decision to perform better data cleaning "
   ]
  },
  {
   "cell_type": "code",
   "execution_count": null,
   "metadata": {},
   "outputs": [],
   "source": []
  }
 ],
 "metadata": {
  "kernelspec": {
   "display_name": "Python 3",
   "language": "python",
   "name": "python3"
  },
  "language_info": {
   "codemirror_mode": {
    "name": "ipython",
    "version": 3
   },
   "file_extension": ".py",
   "mimetype": "text/x-python",
   "name": "python",
   "nbconvert_exporter": "python",
   "pygments_lexer": "ipython3",
   "version": "3.6.5"
  }
 },
 "nbformat": 4,
 "nbformat_minor": 2
}
