{
 "cells": [
  {
   "cell_type": "markdown",
   "metadata": {},
   "source": [
    "# Problem Statement"
   ]
  },
  {
   "cell_type": "markdown",
   "metadata": {},
   "source": [
    "A retail company “ABC Private Limited” wants to understand the customer purchase behaviour (specifically, purchase amount) against various products of different categories. They have shared purchase summary of various customers for selected high volume products from last month.\n",
    "The data set also contains customer demographics (age, gender, marital status, city_type, stay_in_current_city), product details (product_id and product category) and Total purchase_amount from last month.\n",
    "\n",
    "\n",
    "**Our goal is to build a model to predict the purchase amount of customer against various products which will help the company to create personalized offer for customers against different products**\n",
    "\n",
    "We got our data from Black Friday Data Hack by Analytics Vidhya (https://datahack.analyticsvidhya.com/contest/black-friday-data-hack/)\n",
    "\n",
    "Most of the features in the dataset are masked for privacy issues."
   ]
  },
  {
   "cell_type": "markdown",
   "metadata": {},
   "source": [
    "# 1 . Data Exploration"
   ]
  },
  {
   "cell_type": "code",
   "execution_count": 2,
   "metadata": {},
   "outputs": [],
   "source": [
    "import numpy as np\n",
    "import pandas as pd\n",
    "import matplotlib.pyplot as plt\n",
    "import seaborn as sns"
   ]
  },
  {
   "cell_type": "code",
   "execution_count": 4,
   "metadata": {},
   "outputs": [
    {
     "name": "stdout",
     "output_type": "stream",
     "text": [
      "/Users/Faliha/Dropbox/Faliha Zikra MIS @ SCU/Machine learning/MachineLearning\n"
     ]
    }
   ],
   "source": [
    "cd .."
   ]
  },
  {
   "cell_type": "code",
   "execution_count": 119,
   "metadata": {},
   "outputs": [],
   "source": [
    "df= pd.read_csv('data/train.csv')"
   ]
  },
  {
   "cell_type": "code",
   "execution_count": 120,
   "metadata": {},
   "outputs": [
    {
     "data": {
      "text/html": [
       "<div>\n",
       "<style scoped>\n",
       "    .dataframe tbody tr th:only-of-type {\n",
       "        vertical-align: middle;\n",
       "    }\n",
       "\n",
       "    .dataframe tbody tr th {\n",
       "        vertical-align: top;\n",
       "    }\n",
       "\n",
       "    .dataframe thead th {\n",
       "        text-align: right;\n",
       "    }\n",
       "</style>\n",
       "<table border=\"1\" class=\"dataframe\">\n",
       "  <thead>\n",
       "    <tr style=\"text-align: right;\">\n",
       "      <th></th>\n",
       "      <th>User_ID</th>\n",
       "      <th>Product_ID</th>\n",
       "      <th>Gender</th>\n",
       "      <th>Age</th>\n",
       "      <th>Occupation</th>\n",
       "      <th>City_Category</th>\n",
       "      <th>Stay_In_Current_City_Years</th>\n",
       "      <th>Marital_Status</th>\n",
       "      <th>Product_Category_1</th>\n",
       "      <th>Product_Category_2</th>\n",
       "      <th>Product_Category_3</th>\n",
       "      <th>Purchase</th>\n",
       "    </tr>\n",
       "  </thead>\n",
       "  <tbody>\n",
       "    <tr>\n",
       "      <th>0</th>\n",
       "      <td>1000001</td>\n",
       "      <td>P00069042</td>\n",
       "      <td>F</td>\n",
       "      <td>0-17</td>\n",
       "      <td>10</td>\n",
       "      <td>A</td>\n",
       "      <td>2</td>\n",
       "      <td>0</td>\n",
       "      <td>3</td>\n",
       "      <td>NaN</td>\n",
       "      <td>NaN</td>\n",
       "      <td>8370</td>\n",
       "    </tr>\n",
       "    <tr>\n",
       "      <th>1</th>\n",
       "      <td>1000001</td>\n",
       "      <td>P00248942</td>\n",
       "      <td>F</td>\n",
       "      <td>0-17</td>\n",
       "      <td>10</td>\n",
       "      <td>A</td>\n",
       "      <td>2</td>\n",
       "      <td>0</td>\n",
       "      <td>1</td>\n",
       "      <td>6.0</td>\n",
       "      <td>14.0</td>\n",
       "      <td>15200</td>\n",
       "    </tr>\n",
       "    <tr>\n",
       "      <th>2</th>\n",
       "      <td>1000001</td>\n",
       "      <td>P00087842</td>\n",
       "      <td>F</td>\n",
       "      <td>0-17</td>\n",
       "      <td>10</td>\n",
       "      <td>A</td>\n",
       "      <td>2</td>\n",
       "      <td>0</td>\n",
       "      <td>12</td>\n",
       "      <td>NaN</td>\n",
       "      <td>NaN</td>\n",
       "      <td>1422</td>\n",
       "    </tr>\n",
       "    <tr>\n",
       "      <th>3</th>\n",
       "      <td>1000001</td>\n",
       "      <td>P00085442</td>\n",
       "      <td>F</td>\n",
       "      <td>0-17</td>\n",
       "      <td>10</td>\n",
       "      <td>A</td>\n",
       "      <td>2</td>\n",
       "      <td>0</td>\n",
       "      <td>12</td>\n",
       "      <td>14.0</td>\n",
       "      <td>NaN</td>\n",
       "      <td>1057</td>\n",
       "    </tr>\n",
       "    <tr>\n",
       "      <th>4</th>\n",
       "      <td>1000002</td>\n",
       "      <td>P00285442</td>\n",
       "      <td>M</td>\n",
       "      <td>55+</td>\n",
       "      <td>16</td>\n",
       "      <td>C</td>\n",
       "      <td>4+</td>\n",
       "      <td>0</td>\n",
       "      <td>8</td>\n",
       "      <td>NaN</td>\n",
       "      <td>NaN</td>\n",
       "      <td>7969</td>\n",
       "    </tr>\n",
       "  </tbody>\n",
       "</table>\n",
       "</div>"
      ],
      "text/plain": [
       "   User_ID Product_ID Gender   Age  Occupation City_Category  \\\n",
       "0  1000001  P00069042      F  0-17          10             A   \n",
       "1  1000001  P00248942      F  0-17          10             A   \n",
       "2  1000001  P00087842      F  0-17          10             A   \n",
       "3  1000001  P00085442      F  0-17          10             A   \n",
       "4  1000002  P00285442      M   55+          16             C   \n",
       "\n",
       "  Stay_In_Current_City_Years  Marital_Status  Product_Category_1  \\\n",
       "0                          2               0                   3   \n",
       "1                          2               0                   1   \n",
       "2                          2               0                  12   \n",
       "3                          2               0                  12   \n",
       "4                         4+               0                   8   \n",
       "\n",
       "   Product_Category_2  Product_Category_3  Purchase  \n",
       "0                 NaN                 NaN      8370  \n",
       "1                 6.0                14.0     15200  \n",
       "2                 NaN                 NaN      1422  \n",
       "3                14.0                 NaN      1057  \n",
       "4                 NaN                 NaN      7969  "
      ]
     },
     "execution_count": 120,
     "metadata": {},
     "output_type": "execute_result"
    }
   ],
   "source": [
    "df.head()"
   ]
  },
  {
   "cell_type": "code",
   "execution_count": 121,
   "metadata": {},
   "outputs": [
    {
     "data": {
      "text/plain": [
       "(550068, 12)"
      ]
     },
     "execution_count": 121,
     "metadata": {},
     "output_type": "execute_result"
    }
   ],
   "source": [
    "df.shape"
   ]
  },
  {
   "cell_type": "markdown",
   "metadata": {},
   "source": [
    "## Data Exploration"
   ]
  },
  {
   "cell_type": "markdown",
   "metadata": {},
   "source": [
    "### 1.1 Number of customers and Products"
   ]
  },
  {
   "cell_type": "code",
   "execution_count": 122,
   "metadata": {},
   "outputs": [
    {
     "data": {
      "text/plain": [
       "5891"
      ]
     },
     "execution_count": 122,
     "metadata": {},
     "output_type": "execute_result"
    }
   ],
   "source": [
    "# num of unique customers\n",
    "df.User_ID.nunique()  "
   ]
  },
  {
   "cell_type": "code",
   "execution_count": 123,
   "metadata": {},
   "outputs": [
    {
     "data": {
      "text/plain": [
       "3631"
      ]
     },
     "execution_count": 123,
     "metadata": {},
     "output_type": "execute_result"
    }
   ],
   "source": [
    "#num of unique products\n",
    "df.Product_ID.nunique()  #num of products"
   ]
  },
  {
   "cell_type": "markdown",
   "metadata": {},
   "source": [
    "### 1.2 Understanding purchase price"
   ]
  },
  {
   "cell_type": "code",
   "execution_count": 124,
   "metadata": {},
   "outputs": [
    {
     "data": {
      "text/plain": [
       "count    550068.000000\n",
       "mean       9263.968713\n",
       "std        5023.065394\n",
       "min          12.000000\n",
       "25%        5823.000000\n",
       "50%        8047.000000\n",
       "75%       12054.000000\n",
       "max       23961.000000\n",
       "Name: Purchase, dtype: float64"
      ]
     },
     "execution_count": 124,
     "metadata": {},
     "output_type": "execute_result"
    }
   ],
   "source": [
    "df.Purchase.describe()"
   ]
  },
  {
   "cell_type": "code",
   "execution_count": 125,
   "metadata": {},
   "outputs": [
    {
     "data": {
      "text/html": [
       "<div>\n",
       "<style scoped>\n",
       "    .dataframe tbody tr th:only-of-type {\n",
       "        vertical-align: middle;\n",
       "    }\n",
       "\n",
       "    .dataframe tbody tr th {\n",
       "        vertical-align: top;\n",
       "    }\n",
       "\n",
       "    .dataframe thead th {\n",
       "        text-align: right;\n",
       "    }\n",
       "</style>\n",
       "<table border=\"1\" class=\"dataframe\">\n",
       "  <thead>\n",
       "    <tr style=\"text-align: right;\">\n",
       "      <th></th>\n",
       "      <th>User_ID</th>\n",
       "      <th>Product_ID</th>\n",
       "      <th>Gender</th>\n",
       "      <th>Age</th>\n",
       "      <th>Occupation</th>\n",
       "      <th>City_Category</th>\n",
       "      <th>Stay_In_Current_City_Years</th>\n",
       "      <th>Marital_Status</th>\n",
       "      <th>Product_Category_1</th>\n",
       "      <th>Product_Category_2</th>\n",
       "      <th>Product_Category_3</th>\n",
       "      <th>Purchase</th>\n",
       "    </tr>\n",
       "  </thead>\n",
       "  <tbody>\n",
       "    <tr>\n",
       "      <th>293</th>\n",
       "      <td>1000049</td>\n",
       "      <td>P00000142</td>\n",
       "      <td>M</td>\n",
       "      <td>18-25</td>\n",
       "      <td>12</td>\n",
       "      <td>C</td>\n",
       "      <td>4+</td>\n",
       "      <td>1</td>\n",
       "      <td>3</td>\n",
       "      <td>4.0</td>\n",
       "      <td>5.0</td>\n",
       "      <td>13353</td>\n",
       "    </tr>\n",
       "    <tr>\n",
       "      <th>1066</th>\n",
       "      <td>1000181</td>\n",
       "      <td>P00000142</td>\n",
       "      <td>M</td>\n",
       "      <td>18-25</td>\n",
       "      <td>17</td>\n",
       "      <td>C</td>\n",
       "      <td>1</td>\n",
       "      <td>0</td>\n",
       "      <td>3</td>\n",
       "      <td>4.0</td>\n",
       "      <td>5.0</td>\n",
       "      <td>5396</td>\n",
       "    </tr>\n",
       "    <tr>\n",
       "      <th>1073</th>\n",
       "      <td>1000182</td>\n",
       "      <td>P00000142</td>\n",
       "      <td>M</td>\n",
       "      <td>18-25</td>\n",
       "      <td>4</td>\n",
       "      <td>C</td>\n",
       "      <td>0</td>\n",
       "      <td>0</td>\n",
       "      <td>3</td>\n",
       "      <td>4.0</td>\n",
       "      <td>5.0</td>\n",
       "      <td>13301</td>\n",
       "    </tr>\n",
       "    <tr>\n",
       "      <th>1322</th>\n",
       "      <td>1000215</td>\n",
       "      <td>P00000142</td>\n",
       "      <td>M</td>\n",
       "      <td>36-45</td>\n",
       "      <td>14</td>\n",
       "      <td>C</td>\n",
       "      <td>1</td>\n",
       "      <td>1</td>\n",
       "      <td>3</td>\n",
       "      <td>4.0</td>\n",
       "      <td>5.0</td>\n",
       "      <td>10620</td>\n",
       "    </tr>\n",
       "    <tr>\n",
       "      <th>1910</th>\n",
       "      <td>1000306</td>\n",
       "      <td>P00000142</td>\n",
       "      <td>M</td>\n",
       "      <td>18-25</td>\n",
       "      <td>0</td>\n",
       "      <td>C</td>\n",
       "      <td>3</td>\n",
       "      <td>0</td>\n",
       "      <td>3</td>\n",
       "      <td>4.0</td>\n",
       "      <td>5.0</td>\n",
       "      <td>8297</td>\n",
       "    </tr>\n",
       "    <tr>\n",
       "      <th>2805</th>\n",
       "      <td>1000453</td>\n",
       "      <td>P00000142</td>\n",
       "      <td>M</td>\n",
       "      <td>18-25</td>\n",
       "      <td>4</td>\n",
       "      <td>B</td>\n",
       "      <td>1</td>\n",
       "      <td>0</td>\n",
       "      <td>3</td>\n",
       "      <td>4.0</td>\n",
       "      <td>5.0</td>\n",
       "      <td>8276</td>\n",
       "    </tr>\n",
       "    <tr>\n",
       "      <th>3014</th>\n",
       "      <td>1000490</td>\n",
       "      <td>P00000142</td>\n",
       "      <td>M</td>\n",
       "      <td>0-17</td>\n",
       "      <td>10</td>\n",
       "      <td>B</td>\n",
       "      <td>1</td>\n",
       "      <td>0</td>\n",
       "      <td>3</td>\n",
       "      <td>4.0</td>\n",
       "      <td>5.0</td>\n",
       "      <td>10868</td>\n",
       "    </tr>\n",
       "    <tr>\n",
       "      <th>3551</th>\n",
       "      <td>1000574</td>\n",
       "      <td>P00000142</td>\n",
       "      <td>M</td>\n",
       "      <td>26-35</td>\n",
       "      <td>19</td>\n",
       "      <td>C</td>\n",
       "      <td>4+</td>\n",
       "      <td>1</td>\n",
       "      <td>3</td>\n",
       "      <td>4.0</td>\n",
       "      <td>5.0</td>\n",
       "      <td>10954</td>\n",
       "    </tr>\n",
       "    <tr>\n",
       "      <th>3742</th>\n",
       "      <td>1000613</td>\n",
       "      <td>P00000142</td>\n",
       "      <td>M</td>\n",
       "      <td>36-45</td>\n",
       "      <td>20</td>\n",
       "      <td>C</td>\n",
       "      <td>1</td>\n",
       "      <td>1</td>\n",
       "      <td>3</td>\n",
       "      <td>4.0</td>\n",
       "      <td>5.0</td>\n",
       "      <td>13610</td>\n",
       "    </tr>\n",
       "    <tr>\n",
       "      <th>5226</th>\n",
       "      <td>1000855</td>\n",
       "      <td>P00000142</td>\n",
       "      <td>F</td>\n",
       "      <td>18-25</td>\n",
       "      <td>2</td>\n",
       "      <td>A</td>\n",
       "      <td>2</td>\n",
       "      <td>1</td>\n",
       "      <td>3</td>\n",
       "      <td>4.0</td>\n",
       "      <td>5.0</td>\n",
       "      <td>10783</td>\n",
       "    </tr>\n",
       "    <tr>\n",
       "      <th>5316</th>\n",
       "      <td>1000869</td>\n",
       "      <td>P00000142</td>\n",
       "      <td>M</td>\n",
       "      <td>18-25</td>\n",
       "      <td>20</td>\n",
       "      <td>A</td>\n",
       "      <td>4+</td>\n",
       "      <td>1</td>\n",
       "      <td>3</td>\n",
       "      <td>4.0</td>\n",
       "      <td>5.0</td>\n",
       "      <td>13650</td>\n",
       "    </tr>\n",
       "    <tr>\n",
       "      <th>5882</th>\n",
       "      <td>1000954</td>\n",
       "      <td>P00000142</td>\n",
       "      <td>F</td>\n",
       "      <td>26-35</td>\n",
       "      <td>0</td>\n",
       "      <td>B</td>\n",
       "      <td>1</td>\n",
       "      <td>1</td>\n",
       "      <td>3</td>\n",
       "      <td>4.0</td>\n",
       "      <td>5.0</td>\n",
       "      <td>10915</td>\n",
       "    </tr>\n",
       "    <tr>\n",
       "      <th>6854</th>\n",
       "      <td>1001097</td>\n",
       "      <td>P00000142</td>\n",
       "      <td>M</td>\n",
       "      <td>18-25</td>\n",
       "      <td>17</td>\n",
       "      <td>A</td>\n",
       "      <td>4+</td>\n",
       "      <td>0</td>\n",
       "      <td>3</td>\n",
       "      <td>4.0</td>\n",
       "      <td>5.0</td>\n",
       "      <td>10596</td>\n",
       "    </tr>\n",
       "    <tr>\n",
       "      <th>7383</th>\n",
       "      <td>1001151</td>\n",
       "      <td>P00000142</td>\n",
       "      <td>M</td>\n",
       "      <td>26-35</td>\n",
       "      <td>15</td>\n",
       "      <td>C</td>\n",
       "      <td>2</td>\n",
       "      <td>1</td>\n",
       "      <td>3</td>\n",
       "      <td>4.0</td>\n",
       "      <td>5.0</td>\n",
       "      <td>10782</td>\n",
       "    </tr>\n",
       "    <tr>\n",
       "      <th>8489</th>\n",
       "      <td>1001301</td>\n",
       "      <td>P00000142</td>\n",
       "      <td>F</td>\n",
       "      <td>26-35</td>\n",
       "      <td>2</td>\n",
       "      <td>C</td>\n",
       "      <td>1</td>\n",
       "      <td>1</td>\n",
       "      <td>3</td>\n",
       "      <td>4.0</td>\n",
       "      <td>5.0</td>\n",
       "      <td>10931</td>\n",
       "    </tr>\n",
       "    <tr>\n",
       "      <th>9913</th>\n",
       "      <td>1001507</td>\n",
       "      <td>P00000142</td>\n",
       "      <td>M</td>\n",
       "      <td>36-45</td>\n",
       "      <td>17</td>\n",
       "      <td>C</td>\n",
       "      <td>0</td>\n",
       "      <td>0</td>\n",
       "      <td>3</td>\n",
       "      <td>4.0</td>\n",
       "      <td>5.0</td>\n",
       "      <td>13355</td>\n",
       "    </tr>\n",
       "    <tr>\n",
       "      <th>10875</th>\n",
       "      <td>1001666</td>\n",
       "      <td>P00000142</td>\n",
       "      <td>M</td>\n",
       "      <td>26-35</td>\n",
       "      <td>14</td>\n",
       "      <td>B</td>\n",
       "      <td>3</td>\n",
       "      <td>0</td>\n",
       "      <td>3</td>\n",
       "      <td>4.0</td>\n",
       "      <td>5.0</td>\n",
       "      <td>11012</td>\n",
       "    </tr>\n",
       "    <tr>\n",
       "      <th>11224</th>\n",
       "      <td>1001694</td>\n",
       "      <td>P00000142</td>\n",
       "      <td>M</td>\n",
       "      <td>26-35</td>\n",
       "      <td>12</td>\n",
       "      <td>B</td>\n",
       "      <td>3</td>\n",
       "      <td>1</td>\n",
       "      <td>3</td>\n",
       "      <td>4.0</td>\n",
       "      <td>5.0</td>\n",
       "      <td>8315</td>\n",
       "    </tr>\n",
       "    <tr>\n",
       "      <th>11521</th>\n",
       "      <td>1001737</td>\n",
       "      <td>P00000142</td>\n",
       "      <td>M</td>\n",
       "      <td>36-45</td>\n",
       "      <td>20</td>\n",
       "      <td>B</td>\n",
       "      <td>3</td>\n",
       "      <td>0</td>\n",
       "      <td>3</td>\n",
       "      <td>4.0</td>\n",
       "      <td>5.0</td>\n",
       "      <td>13348</td>\n",
       "    </tr>\n",
       "    <tr>\n",
       "      <th>11724</th>\n",
       "      <td>1001758</td>\n",
       "      <td>P00000142</td>\n",
       "      <td>F</td>\n",
       "      <td>26-35</td>\n",
       "      <td>0</td>\n",
       "      <td>B</td>\n",
       "      <td>1</td>\n",
       "      <td>0</td>\n",
       "      <td>3</td>\n",
       "      <td>4.0</td>\n",
       "      <td>5.0</td>\n",
       "      <td>10617</td>\n",
       "    </tr>\n",
       "    <tr>\n",
       "      <th>11922</th>\n",
       "      <td>1001790</td>\n",
       "      <td>P00000142</td>\n",
       "      <td>M</td>\n",
       "      <td>26-35</td>\n",
       "      <td>0</td>\n",
       "      <td>C</td>\n",
       "      <td>1</td>\n",
       "      <td>0</td>\n",
       "      <td>3</td>\n",
       "      <td>4.0</td>\n",
       "      <td>5.0</td>\n",
       "      <td>8029</td>\n",
       "    </tr>\n",
       "    <tr>\n",
       "      <th>12105</th>\n",
       "      <td>1001825</td>\n",
       "      <td>P00000142</td>\n",
       "      <td>M</td>\n",
       "      <td>26-35</td>\n",
       "      <td>7</td>\n",
       "      <td>C</td>\n",
       "      <td>4+</td>\n",
       "      <td>1</td>\n",
       "      <td>3</td>\n",
       "      <td>4.0</td>\n",
       "      <td>5.0</td>\n",
       "      <td>10920</td>\n",
       "    </tr>\n",
       "    <tr>\n",
       "      <th>12937</th>\n",
       "      <td>1001941</td>\n",
       "      <td>P00000142</td>\n",
       "      <td>M</td>\n",
       "      <td>36-45</td>\n",
       "      <td>17</td>\n",
       "      <td>A</td>\n",
       "      <td>1</td>\n",
       "      <td>0</td>\n",
       "      <td>3</td>\n",
       "      <td>4.0</td>\n",
       "      <td>5.0</td>\n",
       "      <td>13704</td>\n",
       "    </tr>\n",
       "    <tr>\n",
       "      <th>13370</th>\n",
       "      <td>1001996</td>\n",
       "      <td>P00000142</td>\n",
       "      <td>M</td>\n",
       "      <td>36-45</td>\n",
       "      <td>0</td>\n",
       "      <td>C</td>\n",
       "      <td>3</td>\n",
       "      <td>0</td>\n",
       "      <td>3</td>\n",
       "      <td>4.0</td>\n",
       "      <td>5.0</td>\n",
       "      <td>13279</td>\n",
       "    </tr>\n",
       "    <tr>\n",
       "      <th>13725</th>\n",
       "      <td>1002042</td>\n",
       "      <td>P00000142</td>\n",
       "      <td>M</td>\n",
       "      <td>0-17</td>\n",
       "      <td>10</td>\n",
       "      <td>C</td>\n",
       "      <td>4+</td>\n",
       "      <td>0</td>\n",
       "      <td>3</td>\n",
       "      <td>4.0</td>\n",
       "      <td>5.0</td>\n",
       "      <td>11020</td>\n",
       "    </tr>\n",
       "    <tr>\n",
       "      <th>14294</th>\n",
       "      <td>1002110</td>\n",
       "      <td>P00000142</td>\n",
       "      <td>M</td>\n",
       "      <td>51-55</td>\n",
       "      <td>11</td>\n",
       "      <td>C</td>\n",
       "      <td>3</td>\n",
       "      <td>0</td>\n",
       "      <td>3</td>\n",
       "      <td>4.0</td>\n",
       "      <td>5.0</td>\n",
       "      <td>8026</td>\n",
       "    </tr>\n",
       "    <tr>\n",
       "      <th>14660</th>\n",
       "      <td>1002173</td>\n",
       "      <td>P00000142</td>\n",
       "      <td>M</td>\n",
       "      <td>51-55</td>\n",
       "      <td>13</td>\n",
       "      <td>C</td>\n",
       "      <td>1</td>\n",
       "      <td>0</td>\n",
       "      <td>3</td>\n",
       "      <td>4.0</td>\n",
       "      <td>5.0</td>\n",
       "      <td>13616</td>\n",
       "    </tr>\n",
       "    <tr>\n",
       "      <th>14848</th>\n",
       "      <td>1002202</td>\n",
       "      <td>P00000142</td>\n",
       "      <td>F</td>\n",
       "      <td>0-17</td>\n",
       "      <td>10</td>\n",
       "      <td>C</td>\n",
       "      <td>2</td>\n",
       "      <td>0</td>\n",
       "      <td>3</td>\n",
       "      <td>4.0</td>\n",
       "      <td>5.0</td>\n",
       "      <td>8207</td>\n",
       "    </tr>\n",
       "    <tr>\n",
       "      <th>15191</th>\n",
       "      <td>1002260</td>\n",
       "      <td>P00000142</td>\n",
       "      <td>F</td>\n",
       "      <td>26-35</td>\n",
       "      <td>20</td>\n",
       "      <td>C</td>\n",
       "      <td>1</td>\n",
       "      <td>0</td>\n",
       "      <td>3</td>\n",
       "      <td>4.0</td>\n",
       "      <td>5.0</td>\n",
       "      <td>7914</td>\n",
       "    </tr>\n",
       "    <tr>\n",
       "      <th>15341</th>\n",
       "      <td>1002288</td>\n",
       "      <td>P00000142</td>\n",
       "      <td>M</td>\n",
       "      <td>0-17</td>\n",
       "      <td>10</td>\n",
       "      <td>B</td>\n",
       "      <td>2</td>\n",
       "      <td>0</td>\n",
       "      <td>3</td>\n",
       "      <td>4.0</td>\n",
       "      <td>5.0</td>\n",
       "      <td>8120</td>\n",
       "    </tr>\n",
       "    <tr>\n",
       "      <th>...</th>\n",
       "      <td>...</td>\n",
       "      <td>...</td>\n",
       "      <td>...</td>\n",
       "      <td>...</td>\n",
       "      <td>...</td>\n",
       "      <td>...</td>\n",
       "      <td>...</td>\n",
       "      <td>...</td>\n",
       "      <td>...</td>\n",
       "      <td>...</td>\n",
       "      <td>...</td>\n",
       "      <td>...</td>\n",
       "    </tr>\n",
       "    <tr>\n",
       "      <th>534123</th>\n",
       "      <td>1004238</td>\n",
       "      <td>P00000142</td>\n",
       "      <td>M</td>\n",
       "      <td>36-45</td>\n",
       "      <td>16</td>\n",
       "      <td>B</td>\n",
       "      <td>3</td>\n",
       "      <td>0</td>\n",
       "      <td>3</td>\n",
       "      <td>4.0</td>\n",
       "      <td>5.0</td>\n",
       "      <td>8087</td>\n",
       "    </tr>\n",
       "    <tr>\n",
       "      <th>534666</th>\n",
       "      <td>1004316</td>\n",
       "      <td>P00000142</td>\n",
       "      <td>M</td>\n",
       "      <td>26-35</td>\n",
       "      <td>6</td>\n",
       "      <td>C</td>\n",
       "      <td>1</td>\n",
       "      <td>1</td>\n",
       "      <td>3</td>\n",
       "      <td>4.0</td>\n",
       "      <td>5.0</td>\n",
       "      <td>11037</td>\n",
       "    </tr>\n",
       "    <tr>\n",
       "      <th>535153</th>\n",
       "      <td>1004384</td>\n",
       "      <td>P00000142</td>\n",
       "      <td>M</td>\n",
       "      <td>26-35</td>\n",
       "      <td>0</td>\n",
       "      <td>B</td>\n",
       "      <td>0</td>\n",
       "      <td>1</td>\n",
       "      <td>3</td>\n",
       "      <td>4.0</td>\n",
       "      <td>5.0</td>\n",
       "      <td>10796</td>\n",
       "    </tr>\n",
       "    <tr>\n",
       "      <th>535377</th>\n",
       "      <td>1004416</td>\n",
       "      <td>P00000142</td>\n",
       "      <td>M</td>\n",
       "      <td>18-25</td>\n",
       "      <td>4</td>\n",
       "      <td>A</td>\n",
       "      <td>3</td>\n",
       "      <td>1</td>\n",
       "      <td>3</td>\n",
       "      <td>4.0</td>\n",
       "      <td>5.0</td>\n",
       "      <td>10989</td>\n",
       "    </tr>\n",
       "    <tr>\n",
       "      <th>535540</th>\n",
       "      <td>1004444</td>\n",
       "      <td>P00000142</td>\n",
       "      <td>F</td>\n",
       "      <td>26-35</td>\n",
       "      <td>12</td>\n",
       "      <td>C</td>\n",
       "      <td>1</td>\n",
       "      <td>0</td>\n",
       "      <td>3</td>\n",
       "      <td>4.0</td>\n",
       "      <td>5.0</td>\n",
       "      <td>13564</td>\n",
       "    </tr>\n",
       "    <tr>\n",
       "      <th>535693</th>\n",
       "      <td>1004456</td>\n",
       "      <td>P00000142</td>\n",
       "      <td>F</td>\n",
       "      <td>36-45</td>\n",
       "      <td>2</td>\n",
       "      <td>C</td>\n",
       "      <td>4+</td>\n",
       "      <td>0</td>\n",
       "      <td>3</td>\n",
       "      <td>4.0</td>\n",
       "      <td>5.0</td>\n",
       "      <td>13542</td>\n",
       "    </tr>\n",
       "    <tr>\n",
       "      <th>536531</th>\n",
       "      <td>1004572</td>\n",
       "      <td>P00000142</td>\n",
       "      <td>F</td>\n",
       "      <td>0-17</td>\n",
       "      <td>10</td>\n",
       "      <td>C</td>\n",
       "      <td>0</td>\n",
       "      <td>0</td>\n",
       "      <td>3</td>\n",
       "      <td>4.0</td>\n",
       "      <td>5.0</td>\n",
       "      <td>13645</td>\n",
       "    </tr>\n",
       "    <tr>\n",
       "      <th>537089</th>\n",
       "      <td>1004659</td>\n",
       "      <td>P00000142</td>\n",
       "      <td>F</td>\n",
       "      <td>26-35</td>\n",
       "      <td>14</td>\n",
       "      <td>C</td>\n",
       "      <td>0</td>\n",
       "      <td>0</td>\n",
       "      <td>3</td>\n",
       "      <td>4.0</td>\n",
       "      <td>5.0</td>\n",
       "      <td>13252</td>\n",
       "    </tr>\n",
       "    <tr>\n",
       "      <th>538056</th>\n",
       "      <td>1004818</td>\n",
       "      <td>P00000142</td>\n",
       "      <td>F</td>\n",
       "      <td>26-35</td>\n",
       "      <td>17</td>\n",
       "      <td>C</td>\n",
       "      <td>1</td>\n",
       "      <td>1</td>\n",
       "      <td>3</td>\n",
       "      <td>4.0</td>\n",
       "      <td>5.0</td>\n",
       "      <td>10684</td>\n",
       "    </tr>\n",
       "    <tr>\n",
       "      <th>538109</th>\n",
       "      <td>1004824</td>\n",
       "      <td>P00000142</td>\n",
       "      <td>M</td>\n",
       "      <td>26-35</td>\n",
       "      <td>7</td>\n",
       "      <td>C</td>\n",
       "      <td>2</td>\n",
       "      <td>0</td>\n",
       "      <td>3</td>\n",
       "      <td>4.0</td>\n",
       "      <td>5.0</td>\n",
       "      <td>10844</td>\n",
       "    </tr>\n",
       "    <tr>\n",
       "      <th>538861</th>\n",
       "      <td>1004964</td>\n",
       "      <td>P00000142</td>\n",
       "      <td>M</td>\n",
       "      <td>36-45</td>\n",
       "      <td>0</td>\n",
       "      <td>A</td>\n",
       "      <td>1</td>\n",
       "      <td>1</td>\n",
       "      <td>3</td>\n",
       "      <td>4.0</td>\n",
       "      <td>5.0</td>\n",
       "      <td>10944</td>\n",
       "    </tr>\n",
       "    <tr>\n",
       "      <th>538915</th>\n",
       "      <td>1004975</td>\n",
       "      <td>P00000142</td>\n",
       "      <td>M</td>\n",
       "      <td>36-45</td>\n",
       "      <td>0</td>\n",
       "      <td>C</td>\n",
       "      <td>3</td>\n",
       "      <td>0</td>\n",
       "      <td>3</td>\n",
       "      <td>4.0</td>\n",
       "      <td>5.0</td>\n",
       "      <td>8256</td>\n",
       "    </tr>\n",
       "    <tr>\n",
       "      <th>539515</th>\n",
       "      <td>1005070</td>\n",
       "      <td>P00000142</td>\n",
       "      <td>M</td>\n",
       "      <td>26-35</td>\n",
       "      <td>2</td>\n",
       "      <td>A</td>\n",
       "      <td>0</td>\n",
       "      <td>0</td>\n",
       "      <td>3</td>\n",
       "      <td>4.0</td>\n",
       "      <td>5.0</td>\n",
       "      <td>11051</td>\n",
       "    </tr>\n",
       "    <tr>\n",
       "      <th>539678</th>\n",
       "      <td>1005090</td>\n",
       "      <td>P00000142</td>\n",
       "      <td>F</td>\n",
       "      <td>36-45</td>\n",
       "      <td>19</td>\n",
       "      <td>B</td>\n",
       "      <td>3</td>\n",
       "      <td>1</td>\n",
       "      <td>3</td>\n",
       "      <td>4.0</td>\n",
       "      <td>5.0</td>\n",
       "      <td>13254</td>\n",
       "    </tr>\n",
       "    <tr>\n",
       "      <th>540044</th>\n",
       "      <td>1005135</td>\n",
       "      <td>P00000142</td>\n",
       "      <td>M</td>\n",
       "      <td>36-45</td>\n",
       "      <td>7</td>\n",
       "      <td>C</td>\n",
       "      <td>4+</td>\n",
       "      <td>0</td>\n",
       "      <td>3</td>\n",
       "      <td>4.0</td>\n",
       "      <td>5.0</td>\n",
       "      <td>10642</td>\n",
       "    </tr>\n",
       "    <tr>\n",
       "      <th>540761</th>\n",
       "      <td>1005271</td>\n",
       "      <td>P00000142</td>\n",
       "      <td>F</td>\n",
       "      <td>26-35</td>\n",
       "      <td>0</td>\n",
       "      <td>A</td>\n",
       "      <td>1</td>\n",
       "      <td>0</td>\n",
       "      <td>3</td>\n",
       "      <td>4.0</td>\n",
       "      <td>5.0</td>\n",
       "      <td>10583</td>\n",
       "    </tr>\n",
       "    <tr>\n",
       "      <th>541077</th>\n",
       "      <td>1005323</td>\n",
       "      <td>P00000142</td>\n",
       "      <td>M</td>\n",
       "      <td>26-35</td>\n",
       "      <td>20</td>\n",
       "      <td>B</td>\n",
       "      <td>1</td>\n",
       "      <td>1</td>\n",
       "      <td>3</td>\n",
       "      <td>4.0</td>\n",
       "      <td>5.0</td>\n",
       "      <td>10959</td>\n",
       "    </tr>\n",
       "    <tr>\n",
       "      <th>541098</th>\n",
       "      <td>1005326</td>\n",
       "      <td>P00000142</td>\n",
       "      <td>M</td>\n",
       "      <td>26-35</td>\n",
       "      <td>2</td>\n",
       "      <td>A</td>\n",
       "      <td>1</td>\n",
       "      <td>1</td>\n",
       "      <td>3</td>\n",
       "      <td>4.0</td>\n",
       "      <td>5.0</td>\n",
       "      <td>5577</td>\n",
       "    </tr>\n",
       "    <tr>\n",
       "      <th>541275</th>\n",
       "      <td>1005350</td>\n",
       "      <td>P00000142</td>\n",
       "      <td>M</td>\n",
       "      <td>18-25</td>\n",
       "      <td>5</td>\n",
       "      <td>A</td>\n",
       "      <td>1</td>\n",
       "      <td>0</td>\n",
       "      <td>3</td>\n",
       "      <td>4.0</td>\n",
       "      <td>5.0</td>\n",
       "      <td>10737</td>\n",
       "    </tr>\n",
       "    <tr>\n",
       "      <th>542174</th>\n",
       "      <td>1005490</td>\n",
       "      <td>P00000142</td>\n",
       "      <td>M</td>\n",
       "      <td>46-50</td>\n",
       "      <td>17</td>\n",
       "      <td>C</td>\n",
       "      <td>3</td>\n",
       "      <td>0</td>\n",
       "      <td>3</td>\n",
       "      <td>4.0</td>\n",
       "      <td>5.0</td>\n",
       "      <td>10718</td>\n",
       "    </tr>\n",
       "    <tr>\n",
       "      <th>542883</th>\n",
       "      <td>1005593</td>\n",
       "      <td>P00000142</td>\n",
       "      <td>M</td>\n",
       "      <td>51-55</td>\n",
       "      <td>16</td>\n",
       "      <td>A</td>\n",
       "      <td>1</td>\n",
       "      <td>1</td>\n",
       "      <td>3</td>\n",
       "      <td>4.0</td>\n",
       "      <td>5.0</td>\n",
       "      <td>13417</td>\n",
       "    </tr>\n",
       "    <tr>\n",
       "      <th>543472</th>\n",
       "      <td>1005675</td>\n",
       "      <td>P00000142</td>\n",
       "      <td>M</td>\n",
       "      <td>36-45</td>\n",
       "      <td>14</td>\n",
       "      <td>A</td>\n",
       "      <td>2</td>\n",
       "      <td>0</td>\n",
       "      <td>3</td>\n",
       "      <td>4.0</td>\n",
       "      <td>5.0</td>\n",
       "      <td>13635</td>\n",
       "    </tr>\n",
       "    <tr>\n",
       "      <th>543500</th>\n",
       "      <td>1005678</td>\n",
       "      <td>P00000142</td>\n",
       "      <td>M</td>\n",
       "      <td>36-45</td>\n",
       "      <td>17</td>\n",
       "      <td>A</td>\n",
       "      <td>0</td>\n",
       "      <td>1</td>\n",
       "      <td>3</td>\n",
       "      <td>4.0</td>\n",
       "      <td>5.0</td>\n",
       "      <td>13241</td>\n",
       "    </tr>\n",
       "    <tr>\n",
       "      <th>543859</th>\n",
       "      <td>1005740</td>\n",
       "      <td>P00000142</td>\n",
       "      <td>M</td>\n",
       "      <td>26-35</td>\n",
       "      <td>1</td>\n",
       "      <td>B</td>\n",
       "      <td>1</td>\n",
       "      <td>0</td>\n",
       "      <td>3</td>\n",
       "      <td>4.0</td>\n",
       "      <td>5.0</td>\n",
       "      <td>13224</td>\n",
       "    </tr>\n",
       "    <tr>\n",
       "      <th>543868</th>\n",
       "      <td>1005742</td>\n",
       "      <td>P00000142</td>\n",
       "      <td>F</td>\n",
       "      <td>26-35</td>\n",
       "      <td>12</td>\n",
       "      <td>B</td>\n",
       "      <td>1</td>\n",
       "      <td>1</td>\n",
       "      <td>3</td>\n",
       "      <td>4.0</td>\n",
       "      <td>5.0</td>\n",
       "      <td>13301</td>\n",
       "    </tr>\n",
       "    <tr>\n",
       "      <th>543891</th>\n",
       "      <td>1005746</td>\n",
       "      <td>P00000142</td>\n",
       "      <td>M</td>\n",
       "      <td>18-25</td>\n",
       "      <td>15</td>\n",
       "      <td>B</td>\n",
       "      <td>2</td>\n",
       "      <td>0</td>\n",
       "      <td>3</td>\n",
       "      <td>4.0</td>\n",
       "      <td>5.0</td>\n",
       "      <td>11052</td>\n",
       "    </tr>\n",
       "    <tr>\n",
       "      <th>544175</th>\n",
       "      <td>1005779</td>\n",
       "      <td>P00000142</td>\n",
       "      <td>M</td>\n",
       "      <td>26-35</td>\n",
       "      <td>5</td>\n",
       "      <td>A</td>\n",
       "      <td>1</td>\n",
       "      <td>0</td>\n",
       "      <td>3</td>\n",
       "      <td>4.0</td>\n",
       "      <td>5.0</td>\n",
       "      <td>7989</td>\n",
       "    </tr>\n",
       "    <tr>\n",
       "      <th>544671</th>\n",
       "      <td>1005841</td>\n",
       "      <td>P00000142</td>\n",
       "      <td>F</td>\n",
       "      <td>36-45</td>\n",
       "      <td>7</td>\n",
       "      <td>A</td>\n",
       "      <td>4+</td>\n",
       "      <td>1</td>\n",
       "      <td>3</td>\n",
       "      <td>4.0</td>\n",
       "      <td>5.0</td>\n",
       "      <td>13614</td>\n",
       "    </tr>\n",
       "    <tr>\n",
       "      <th>545284</th>\n",
       "      <td>1005949</td>\n",
       "      <td>P00000142</td>\n",
       "      <td>M</td>\n",
       "      <td>18-25</td>\n",
       "      <td>17</td>\n",
       "      <td>B</td>\n",
       "      <td>3</td>\n",
       "      <td>1</td>\n",
       "      <td>3</td>\n",
       "      <td>4.0</td>\n",
       "      <td>5.0</td>\n",
       "      <td>7936</td>\n",
       "    </tr>\n",
       "    <tr>\n",
       "      <th>545316</th>\n",
       "      <td>1005954</td>\n",
       "      <td>P00000142</td>\n",
       "      <td>M</td>\n",
       "      <td>46-50</td>\n",
       "      <td>11</td>\n",
       "      <td>A</td>\n",
       "      <td>2</td>\n",
       "      <td>1</td>\n",
       "      <td>3</td>\n",
       "      <td>4.0</td>\n",
       "      <td>5.0</td>\n",
       "      <td>13655</td>\n",
       "    </tr>\n",
       "  </tbody>\n",
       "</table>\n",
       "<p>1152 rows × 12 columns</p>\n",
       "</div>"
      ],
      "text/plain": [
       "        User_ID Product_ID Gender    Age  Occupation City_Category  \\\n",
       "293     1000049  P00000142      M  18-25          12             C   \n",
       "1066    1000181  P00000142      M  18-25          17             C   \n",
       "1073    1000182  P00000142      M  18-25           4             C   \n",
       "1322    1000215  P00000142      M  36-45          14             C   \n",
       "1910    1000306  P00000142      M  18-25           0             C   \n",
       "2805    1000453  P00000142      M  18-25           4             B   \n",
       "3014    1000490  P00000142      M   0-17          10             B   \n",
       "3551    1000574  P00000142      M  26-35          19             C   \n",
       "3742    1000613  P00000142      M  36-45          20             C   \n",
       "5226    1000855  P00000142      F  18-25           2             A   \n",
       "5316    1000869  P00000142      M  18-25          20             A   \n",
       "5882    1000954  P00000142      F  26-35           0             B   \n",
       "6854    1001097  P00000142      M  18-25          17             A   \n",
       "7383    1001151  P00000142      M  26-35          15             C   \n",
       "8489    1001301  P00000142      F  26-35           2             C   \n",
       "9913    1001507  P00000142      M  36-45          17             C   \n",
       "10875   1001666  P00000142      M  26-35          14             B   \n",
       "11224   1001694  P00000142      M  26-35          12             B   \n",
       "11521   1001737  P00000142      M  36-45          20             B   \n",
       "11724   1001758  P00000142      F  26-35           0             B   \n",
       "11922   1001790  P00000142      M  26-35           0             C   \n",
       "12105   1001825  P00000142      M  26-35           7             C   \n",
       "12937   1001941  P00000142      M  36-45          17             A   \n",
       "13370   1001996  P00000142      M  36-45           0             C   \n",
       "13725   1002042  P00000142      M   0-17          10             C   \n",
       "14294   1002110  P00000142      M  51-55          11             C   \n",
       "14660   1002173  P00000142      M  51-55          13             C   \n",
       "14848   1002202  P00000142      F   0-17          10             C   \n",
       "15191   1002260  P00000142      F  26-35          20             C   \n",
       "15341   1002288  P00000142      M   0-17          10             B   \n",
       "...         ...        ...    ...    ...         ...           ...   \n",
       "534123  1004238  P00000142      M  36-45          16             B   \n",
       "534666  1004316  P00000142      M  26-35           6             C   \n",
       "535153  1004384  P00000142      M  26-35           0             B   \n",
       "535377  1004416  P00000142      M  18-25           4             A   \n",
       "535540  1004444  P00000142      F  26-35          12             C   \n",
       "535693  1004456  P00000142      F  36-45           2             C   \n",
       "536531  1004572  P00000142      F   0-17          10             C   \n",
       "537089  1004659  P00000142      F  26-35          14             C   \n",
       "538056  1004818  P00000142      F  26-35          17             C   \n",
       "538109  1004824  P00000142      M  26-35           7             C   \n",
       "538861  1004964  P00000142      M  36-45           0             A   \n",
       "538915  1004975  P00000142      M  36-45           0             C   \n",
       "539515  1005070  P00000142      M  26-35           2             A   \n",
       "539678  1005090  P00000142      F  36-45          19             B   \n",
       "540044  1005135  P00000142      M  36-45           7             C   \n",
       "540761  1005271  P00000142      F  26-35           0             A   \n",
       "541077  1005323  P00000142      M  26-35          20             B   \n",
       "541098  1005326  P00000142      M  26-35           2             A   \n",
       "541275  1005350  P00000142      M  18-25           5             A   \n",
       "542174  1005490  P00000142      M  46-50          17             C   \n",
       "542883  1005593  P00000142      M  51-55          16             A   \n",
       "543472  1005675  P00000142      M  36-45          14             A   \n",
       "543500  1005678  P00000142      M  36-45          17             A   \n",
       "543859  1005740  P00000142      M  26-35           1             B   \n",
       "543868  1005742  P00000142      F  26-35          12             B   \n",
       "543891  1005746  P00000142      M  18-25          15             B   \n",
       "544175  1005779  P00000142      M  26-35           5             A   \n",
       "544671  1005841  P00000142      F  36-45           7             A   \n",
       "545284  1005949  P00000142      M  18-25          17             B   \n",
       "545316  1005954  P00000142      M  46-50          11             A   \n",
       "\n",
       "       Stay_In_Current_City_Years  Marital_Status  Product_Category_1  \\\n",
       "293                            4+               1                   3   \n",
       "1066                            1               0                   3   \n",
       "1073                            0               0                   3   \n",
       "1322                            1               1                   3   \n",
       "1910                            3               0                   3   \n",
       "2805                            1               0                   3   \n",
       "3014                            1               0                   3   \n",
       "3551                           4+               1                   3   \n",
       "3742                            1               1                   3   \n",
       "5226                            2               1                   3   \n",
       "5316                           4+               1                   3   \n",
       "5882                            1               1                   3   \n",
       "6854                           4+               0                   3   \n",
       "7383                            2               1                   3   \n",
       "8489                            1               1                   3   \n",
       "9913                            0               0                   3   \n",
       "10875                           3               0                   3   \n",
       "11224                           3               1                   3   \n",
       "11521                           3               0                   3   \n",
       "11724                           1               0                   3   \n",
       "11922                           1               0                   3   \n",
       "12105                          4+               1                   3   \n",
       "12937                           1               0                   3   \n",
       "13370                           3               0                   3   \n",
       "13725                          4+               0                   3   \n",
       "14294                           3               0                   3   \n",
       "14660                           1               0                   3   \n",
       "14848                           2               0                   3   \n",
       "15191                           1               0                   3   \n",
       "15341                           2               0                   3   \n",
       "...                           ...             ...                 ...   \n",
       "534123                          3               0                   3   \n",
       "534666                          1               1                   3   \n",
       "535153                          0               1                   3   \n",
       "535377                          3               1                   3   \n",
       "535540                          1               0                   3   \n",
       "535693                         4+               0                   3   \n",
       "536531                          0               0                   3   \n",
       "537089                          0               0                   3   \n",
       "538056                          1               1                   3   \n",
       "538109                          2               0                   3   \n",
       "538861                          1               1                   3   \n",
       "538915                          3               0                   3   \n",
       "539515                          0               0                   3   \n",
       "539678                          3               1                   3   \n",
       "540044                         4+               0                   3   \n",
       "540761                          1               0                   3   \n",
       "541077                          1               1                   3   \n",
       "541098                          1               1                   3   \n",
       "541275                          1               0                   3   \n",
       "542174                          3               0                   3   \n",
       "542883                          1               1                   3   \n",
       "543472                          2               0                   3   \n",
       "543500                          0               1                   3   \n",
       "543859                          1               0                   3   \n",
       "543868                          1               1                   3   \n",
       "543891                          2               0                   3   \n",
       "544175                          1               0                   3   \n",
       "544671                         4+               1                   3   \n",
       "545284                          3               1                   3   \n",
       "545316                          2               1                   3   \n",
       "\n",
       "        Product_Category_2  Product_Category_3  Purchase  \n",
       "293                    4.0                 5.0     13353  \n",
       "1066                   4.0                 5.0      5396  \n",
       "1073                   4.0                 5.0     13301  \n",
       "1322                   4.0                 5.0     10620  \n",
       "1910                   4.0                 5.0      8297  \n",
       "2805                   4.0                 5.0      8276  \n",
       "3014                   4.0                 5.0     10868  \n",
       "3551                   4.0                 5.0     10954  \n",
       "3742                   4.0                 5.0     13610  \n",
       "5226                   4.0                 5.0     10783  \n",
       "5316                   4.0                 5.0     13650  \n",
       "5882                   4.0                 5.0     10915  \n",
       "6854                   4.0                 5.0     10596  \n",
       "7383                   4.0                 5.0     10782  \n",
       "8489                   4.0                 5.0     10931  \n",
       "9913                   4.0                 5.0     13355  \n",
       "10875                  4.0                 5.0     11012  \n",
       "11224                  4.0                 5.0      8315  \n",
       "11521                  4.0                 5.0     13348  \n",
       "11724                  4.0                 5.0     10617  \n",
       "11922                  4.0                 5.0      8029  \n",
       "12105                  4.0                 5.0     10920  \n",
       "12937                  4.0                 5.0     13704  \n",
       "13370                  4.0                 5.0     13279  \n",
       "13725                  4.0                 5.0     11020  \n",
       "14294                  4.0                 5.0      8026  \n",
       "14660                  4.0                 5.0     13616  \n",
       "14848                  4.0                 5.0      8207  \n",
       "15191                  4.0                 5.0      7914  \n",
       "15341                  4.0                 5.0      8120  \n",
       "...                    ...                 ...       ...  \n",
       "534123                 4.0                 5.0      8087  \n",
       "534666                 4.0                 5.0     11037  \n",
       "535153                 4.0                 5.0     10796  \n",
       "535377                 4.0                 5.0     10989  \n",
       "535540                 4.0                 5.0     13564  \n",
       "535693                 4.0                 5.0     13542  \n",
       "536531                 4.0                 5.0     13645  \n",
       "537089                 4.0                 5.0     13252  \n",
       "538056                 4.0                 5.0     10684  \n",
       "538109                 4.0                 5.0     10844  \n",
       "538861                 4.0                 5.0     10944  \n",
       "538915                 4.0                 5.0      8256  \n",
       "539515                 4.0                 5.0     11051  \n",
       "539678                 4.0                 5.0     13254  \n",
       "540044                 4.0                 5.0     10642  \n",
       "540761                 4.0                 5.0     10583  \n",
       "541077                 4.0                 5.0     10959  \n",
       "541098                 4.0                 5.0      5577  \n",
       "541275                 4.0                 5.0     10737  \n",
       "542174                 4.0                 5.0     10718  \n",
       "542883                 4.0                 5.0     13417  \n",
       "543472                 4.0                 5.0     13635  \n",
       "543500                 4.0                 5.0     13241  \n",
       "543859                 4.0                 5.0     13224  \n",
       "543868                 4.0                 5.0     13301  \n",
       "543891                 4.0                 5.0     11052  \n",
       "544175                 4.0                 5.0      7989  \n",
       "544671                 4.0                 5.0     13614  \n",
       "545284                 4.0                 5.0      7936  \n",
       "545316                 4.0                 5.0     13655  \n",
       "\n",
       "[1152 rows x 12 columns]"
      ]
     },
     "execution_count": 125,
     "metadata": {},
     "output_type": "execute_result"
    }
   ],
   "source": [
    "df[df['Product_ID']=='P00000142']  "
   ]
  },
  {
   "cell_type": "markdown",
   "metadata": {},
   "source": [
    "This shows that products don't have a standard selling price. The price fluctuates for every purchase made , similar to house prices. This could be due to the various discounts applied to the product (like buy 2 get 3rd one at 50% off). We checked to see if different citites have different pricing , and we found out that even for the same city the product prices vary. Hence, it would be intereseting to see if the product price has a relationship with the number of items the customer purchased."
   ]
  },
  {
   "cell_type": "markdown",
   "metadata": {},
   "source": [
    "### 1.3 Gender of customers"
   ]
  },
  {
   "cell_type": "code",
   "execution_count": 126,
   "metadata": {},
   "outputs": [
    {
     "data": {
      "text/plain": [
       "M    0.753105\n",
       "F    0.246895\n",
       "Name: Gender, dtype: float64"
      ]
     },
     "execution_count": 126,
     "metadata": {},
     "output_type": "execute_result"
    }
   ],
   "source": [
    "df.Gender.value_counts(normalize=True)"
   ]
  },
  {
   "cell_type": "markdown",
   "metadata": {},
   "source": [
    "Most of the cutomers around 75 percent of them are men . This tells us that the store probably sells items that mostly cater to men . "
   ]
  },
  {
   "cell_type": "code",
   "execution_count": 127,
   "metadata": {},
   "outputs": [
    {
     "name": "stderr",
     "output_type": "stream",
     "text": [
      "/Users/Faliha/miniconda3/lib/python3.6/site-packages/seaborn/categorical.py:3692: UserWarning: The `size` paramter has been renamed to `height`; please update your code.\n",
      "  warnings.warn(msg, UserWarning)\n"
     ]
    },
    {
     "data": {
      "image/png": "[encoded data removed]",
      "text/plain": [
       "<Figure size 504x504 with 1 Axes>"
      ]
     },
     "metadata": {},
     "output_type": "display_data"
    }
   ],
   "source": [
    "sns.catplot(x=\"Gender\", y=\"Purchase\",kind=\"box\",data=df, palette=\"Set2\", size=7)\n",
    "\n",
    "plt.title('Difference in Male and Female Spending pattern ', fontsize=18)\n",
    "plt.xlabel('Gender', fontsize=14)\n",
    "plt.ylabel('Cost of the item', fontsize=14)\n",
    "plt.show()"
   ]
  },
  {
   "cell_type": "markdown",
   "metadata": {},
   "source": [
    "Men definitely do buy more expensive items than women. Assuming that this is a men's store, this observation is reasonable."
   ]
  },
  {
   "cell_type": "code",
   "execution_count": 128,
   "metadata": {},
   "outputs": [
    {
     "data": {
      "text/plain": [
       "M    0.797067\n",
       "F    0.202933\n",
       "Name: Gender, dtype: float64"
      ]
     },
     "execution_count": 128,
     "metadata": {},
     "output_type": "execute_result"
    }
   ],
   "source": [
    "#propotion of gender who buy expensive items (<75% of purchase price)\n",
    "df[df['Purchase']>12054]['Gender'].value_counts(normalize=True)"
   ]
  },
  {
   "cell_type": "markdown",
   "metadata": {},
   "source": [
    "Since the prices fluctuate , it would be interesting to see the range of the price of the item (min, mean, max price) to better understand what contributes to this fluctuation."
   ]
  },
  {
   "cell_type": "code",
   "execution_count": 129,
   "metadata": {},
   "outputs": [],
   "source": [
    "# creating features with mean of the price of prodcuts customers paid\n",
    "mean=df.groupby('Product_ID')['Purchase'].mean()\n",
    "mean=pd.DataFrame(data=mean).reset_index()\n",
    "df=pd.merge(df,mean, on='Product_ID') # merging the column with the original df\n",
    "df=df.rename( columns={\"Purchase_x\": \"Purchase_price\",\"Purchase_y\": \"Mean_Purchase_price\"})"
   ]
  },
  {
   "cell_type": "code",
   "execution_count": 130,
   "metadata": {},
   "outputs": [],
   "source": [
    "# creating features with min  of the price of prodcuts customers paid\n",
    "minp=df.groupby('Product_ID')['Purchase_price'].min()\n",
    "minp=pd.DataFrame(data=minp).reset_index()\n",
    "df=pd.merge(df,minp, on='Product_ID')  \n",
    "df=df.rename( columns={\"Purchase_price_y\": \"Min_purchase_price\", \"Purchase_price_x\": \"Purchase\"})"
   ]
  },
  {
   "cell_type": "code",
   "execution_count": 131,
   "metadata": {},
   "outputs": [],
   "source": [
    "#creating features with max  of the price of prodcuts customers paid\n",
    "maxp=df.groupby('Product_ID')['Purchase'].max()\n",
    "maxp=pd.DataFrame(data=maxp).reset_index()\n",
    "df=pd.merge(df,maxp, on='Product_ID')\n",
    "df=df.rename( columns={\"Purchase_x\": \"Purchase\",\"Purchase_y\": \"Max_purchase_price\"})"
   ]
  },
  {
   "cell_type": "code",
   "execution_count": 132,
   "metadata": {},
   "outputs": [],
   "source": [
    "# to see what percent of discount is applied to the items \n",
    "df['Discount']=100- ((df.Min_purchase_price /df.Max_purchase_price) *100)"
   ]
  },
  {
   "cell_type": "code",
   "execution_count": 133,
   "metadata": {},
   "outputs": [
    {
     "data": {
      "text/plain": [
       "count    550068.000000\n",
       "mean         79.413392\n",
       "std           4.329604\n",
       "min           0.000000\n",
       "25%          79.954374\n",
       "50%          80.473838\n",
       "75%          80.664683\n",
       "max          80.769231\n",
       "Name: Discount, dtype: float64"
      ]
     },
     "execution_count": 133,
     "metadata": {},
     "output_type": "execute_result"
    }
   ],
   "source": [
    "df.Discount.describe()"
   ]
  },
  {
   "cell_type": "markdown",
   "metadata": {},
   "source": [
    "**This shows that customers pay the marked price (Max purchase price) or get a 80 percent discount (min purchase price ) if maybe bought with other items as discussed before** . Hence it would be interesting to see the realtionship between number of items bought and the discounted prices."
   ]
  },
  {
   "cell_type": "markdown",
   "metadata": {},
   "source": [
    "### 1.4 Occupation of the customers"
   ]
  },
  {
   "cell_type": "code",
   "execution_count": 134,
   "metadata": {},
   "outputs": [],
   "source": [
    "x=df.Occupation.value_counts(normalize=True)"
   ]
  },
  {
   "cell_type": "code",
   "execution_count": 135,
   "metadata": {},
   "outputs": [],
   "source": [
    "# grouping occupations that were o less than 2 percent of the occupations\n",
    "b = x[x >0.02]\n",
    "b['rest'] = x[x <= 0.02].sum()"
   ]
  },
  {
   "cell_type": "code",
   "execution_count": 136,
   "metadata": {},
   "outputs": [
    {
     "data": {
      "image/png": "[encoded data removed]",
      "text/plain": [
       "<Figure size 720x720 with 1 Axes>"
      ]
     },
     "metadata": {},
     "output_type": "display_data"
    }
   ],
   "source": [
    "\n",
    "#plot to show different types of occupations\n",
    "explode = (0,0,0,0,0,0.1, 0.1,0.1,0.1,0.2, 0.2,  0.3,0.3,0.3,0.4,0.4,0.5)\n",
    "b.plot(kind='pie', fontsize=12, colormap='plasma', explode=explode, figsize=(10,10),\n",
    "       autopct='%1.0f%%',pctdistance=1.1, labeldistance=1.2)\n",
    "plt.axis('equal')\n",
    "plt.suptitle('Occupation of the customers', fontsize=20)\n",
    "plt.ylabel('Occupations', fontsize=13)\n",
    "plt.legend(labels=b.index, loc=\"upper right\")\n",
    "plt.show()"
   ]
  },
  {
   "cell_type": "markdown",
   "metadata": {},
   "source": [
    "Since this category is masked we don't exactly know what occupations the customers do. Occupations that were less than 2 percent of the population were grouped as 'rest'. But this piechart does give us unformation about our cusotmer behaviour. **We know customers who are from the occupation 4, 0 , 7 and 1 are top customers, this could also relate to their spending patterns.**\n",
    "\n",
    "It would be interesting to see the spending pattern of the customers that belong to these occupations when compared to the others customers from the other occupations."
   ]
  },
  {
   "cell_type": "markdown",
   "metadata": {},
   "source": [
    "### 1.5. City Category "
   ]
  },
  {
   "cell_type": "code",
   "execution_count": 137,
   "metadata": {},
   "outputs": [
    {
     "data": {
      "text/plain": [
       "B    0.420263\n",
       "C    0.311189\n",
       "A    0.268549\n",
       "Name: City_Category, dtype: float64"
      ]
     },
     "execution_count": 137,
     "metadata": {},
     "output_type": "execute_result"
    }
   ],
   "source": [
    "df.City_Category.value_counts(normalize=True)"
   ]
  },
  {
   "cell_type": "markdown",
   "metadata": {},
   "source": [
    "**Most of the stores customers live in City B **. It would be interesting to see customers in City B soending patterns vs customers in City A and City C. (See Section 2)."
   ]
  },
  {
   "cell_type": "code",
   "execution_count": 138,
   "metadata": {},
   "outputs": [
    {
     "data": {
      "text/plain": [
       "Text(-8.825,0.5,'Cost of the item')"
      ]
     },
     "execution_count": 138,
     "metadata": {},
     "output_type": "execute_result"
    },
    {
     "data": {
      "image/png": "[encoded data removed]",
      "text/plain": [
       "<Figure size 360x360 with 1 Axes>"
      ]
     },
     "metadata": {},
     "output_type": "display_data"
    }
   ],
   "source": [
    "sns.catplot(y='Purchase', x='City_Category', data=df, kind=\"box\")\n",
    "plt.title('City vs Price of the item', fontsize=18)\n",
    "plt.xlabel('City of the User', fontsize=14)\n",
    "plt.ylabel('Cost of the item', fontsize=14)"
   ]
  },
  {
   "cell_type": "markdown",
   "metadata": {},
   "source": [
    "**However customers in city C seem to buy more expensive items when compared to customers in city A and B** This is could be because City C has a higher standard of living or the customers from city C could be more affluent compared to the other two cities. "
   ]
  },
  {
   "cell_type": "markdown",
   "metadata": {},
   "source": [
    "### 1.6 Stay in City years"
   ]
  },
  {
   "cell_type": "code",
   "execution_count": 139,
   "metadata": {},
   "outputs": [
    {
     "data": {
      "text/plain": [
       "1     0.352358\n",
       "2     0.185137\n",
       "3     0.173224\n",
       "4+    0.154028\n",
       "0     0.135252\n",
       "Name: Stay_In_Current_City_Years, dtype: float64"
      ]
     },
     "execution_count": 139,
     "metadata": {},
     "output_type": "execute_result"
    }
   ],
   "source": [
    "df.Stay_In_Current_City_Years.value_counts(normalize=True)"
   ]
  },
  {
   "cell_type": "markdown",
   "metadata": {},
   "source": [
    "Most of the customers of this store have been living in the city for 1 year. Customers who recently moved to the city as well Year 0 seem to be visiting the store, which means the company is marketting it self well. Customers who recently moved to the city are also aware of this store.\n",
    "It seems like the customers over the years stop visiting the store. The Store can introduce loyalty programs or other marketting and customer retention strategy to keep its customers from finding other alternatives.\n",
    "The company can take more efforts to increase brand awareness among the customers who recently moved or who have been living in the city for many years."
   ]
  },
  {
   "cell_type": "markdown",
   "metadata": {},
   "source": [
    "### 1.7 Marital Status of customers"
   ]
  },
  {
   "cell_type": "code",
   "execution_count": 140,
   "metadata": {},
   "outputs": [
    {
     "data": {
      "text/plain": [
       "0    0.590347\n",
       "1    0.409653\n",
       "Name: Marital_Status, dtype: float64"
      ]
     },
     "execution_count": 140,
     "metadata": {},
     "output_type": "execute_result"
    }
   ],
   "source": [
    "df.Marital_Status.value_counts(normalize=True)"
   ]
  },
  {
   "cell_type": "markdown",
   "metadata": {},
   "source": [
    "60 % of the customers are married. It would be interesting to see how married customers spend in the store vs single customers .(See section 2)."
   ]
  },
  {
   "cell_type": "markdown",
   "metadata": {},
   "source": [
    "### 1.8. Age of customers"
   ]
  },
  {
   "cell_type": "code",
   "execution_count": 141,
   "metadata": {},
   "outputs": [
    {
     "data": {
      "text/plain": [
       "26-35    0.399200\n",
       "36-45    0.199999\n",
       "18-25    0.181178\n",
       "46-50    0.083082\n",
       "51-55    0.069993\n",
       "55+      0.039093\n",
       "0-17     0.027455\n",
       "Name: Age, dtype: float64"
      ]
     },
     "execution_count": 141,
     "metadata": {},
     "output_type": "execute_result"
    }
   ],
   "source": [
    "df.Age.value_counts(normalize=True)"
   ]
  },
  {
   "cell_type": "markdown",
   "metadata": {},
   "source": [
    "Most of the customer around 40 %  of them belong to the age group of 26-35. **This could mean the items in the store are catered for age groups beterrn 18-45 year old adults.** If not the store can make efforts to target this age group through their ad campaigns and marketting strategies.\n",
    "\n",
    "Less than 5 percent of the customer base is above the age of 55 or below the age of 17. Which clearly indidcates that the items sold in the store cater to younger people.\n",
    "\n",
    "It would be interesting to see how the spending pattern among the different age groups."
   ]
  },
  {
   "cell_type": "code",
   "execution_count": 142,
   "metadata": {},
   "outputs": [
    {
     "data": {
      "text/plain": [
       "Text(-8.825,0.5,'Cost of the item')"
      ]
     },
     "execution_count": 142,
     "metadata": {},
     "output_type": "execute_result"
    },
    {
     "data": {
      "image/png": "[encoded data removed]",
      "text/plain": [
       "<Figure size 360x360 with 1 Axes>"
      ]
     },
     "metadata": {},
     "output_type": "display_data"
    }
   ],
   "source": [
    "sns.catplot(y='Purchase', x='Age', data=df, kind=\"box\",order=['0-17','18-25','26-35','36-45','46-50','51-55','55+'])\n",
    "\n",
    "plt.title('Age vs Price of the item', fontsize=18)\n",
    "plt.xlabel('Age of the User', fontsize=14)\n",
    "plt.ylabel('Cost of the item', fontsize=14)"
   ]
  },
  {
   "cell_type": "markdown",
   "metadata": {},
   "source": [
    "### 1.9. Product Categories"
   ]
  },
  {
   "cell_type": "markdown",
   "metadata": {},
   "source": [
    "This plot doesn't show a huge difference between the spending pattern of the different age groups."
   ]
  },
  {
   "cell_type": "markdown",
   "metadata": {},
   "source": [
    "### 1.9. Product Categories"
   ]
  },
  {
   "cell_type": "code",
   "execution_count": 190,
   "metadata": {},
   "outputs": [
    {
     "data": {
      "text/plain": [
       "5     0.274390\n",
       "1     0.255201\n",
       "8     0.207111\n",
       "11    0.044153\n",
       "2     0.043384\n",
       "6     0.037206\n",
       "3     0.036746\n",
       "4     0.021366\n",
       "16    0.017867\n",
       "15    0.011435\n",
       "13    0.010088\n",
       "10    0.009317\n",
       "12    0.007175\n",
       "7     0.006765\n",
       "18    0.005681\n",
       "20    0.004636\n",
       "19    0.002914\n",
       "14    0.002769\n",
       "17    0.001051\n",
       "9     0.000745\n",
       "Name: Product_Category_1, dtype: float64"
      ]
     },
     "execution_count": 190,
     "metadata": {},
     "output_type": "execute_result"
    }
   ],
   "source": [
    "df.Product_Category_1.value_counts(normalize=True)"
   ]
  },
  {
   "cell_type": "markdown",
   "metadata": {},
   "source": [
    "Product categories 5, 1, and 8 seem to be the most common categories that make up around 75 percent of the items in  the store."
   ]
  },
  {
   "cell_type": "markdown",
   "metadata": {},
   "source": [
    "It would be interesting to see which categories are the most correlated ."
   ]
  },
  {
   "cell_type": "code",
   "execution_count": 201,
   "metadata": {},
   "outputs": [],
   "source": [
    "#dummyfying the product categories to see most correlated categories\n",
    "prdt=pd.get_dummies(df['Product_Category_1'], columns=['Product_Category_1'])"
   ]
  },
  {
   "cell_type": "code",
   "execution_count": 214,
   "metadata": {},
   "outputs": [
    {
     "data": {
      "text/plain": [
       "1   1     1.000000\n",
       "5   1     0.359960\n",
       "    8     0.314288\n",
       "1   8     0.299169\n",
       "11  5     0.132165\n",
       "5   2     0.130956\n",
       "1   11    0.125807\n",
       "2   1     0.124657\n",
       "5   6     0.120885\n",
       "3   5     0.120107\n",
       "dtype: float64"
      ]
     },
     "execution_count": 214,
     "metadata": {},
     "output_type": "execute_result"
    }
   ],
   "source": [
    "prdt.corr().abs().unstack().sort_values().drop_duplicates().nlargest(10)"
   ]
  },
  {
   "cell_type": "markdown",
   "metadata": {},
   "source": [
    "**This shows that Category 1 and 5  and 5 and 8 are the most correlated categories and they make up 75 percent of the products.**"
   ]
  },
  {
   "cell_type": "markdown",
   "metadata": {},
   "source": [
    "### 1.9.  Total amount spent by customer in the store"
   ]
  },
  {
   "cell_type": "code",
   "execution_count": 204,
   "metadata": {},
   "outputs": [
    {
     "ename": "KeyError",
     "evalue": "'User_ID'",
     "output_type": "error",
     "traceback": [
      "\u001b[0;31m---------------------------------------------------------------------------\u001b[0m",
      "\u001b[0;31mKeyError\u001b[0m                                  Traceback (most recent call last)",
      "\u001b[0;32m<ipython-input-204-25e3e9a4166a>\u001b[0m in \u001b[0;36m<module>\u001b[0;34m()\u001b[0m\n\u001b[1;32m      1\u001b[0m \u001b[0;31m#amount spent in the store by each user to identify high spenders\u001b[0m\u001b[0;34m\u001b[0m\u001b[0;34m\u001b[0m\u001b[0m\n\u001b[0;32m----> 2\u001b[0;31m \u001b[0mamount\u001b[0m\u001b[0;34m=\u001b[0m\u001b[0mdf\u001b[0m\u001b[0;34m.\u001b[0m\u001b[0mgroupby\u001b[0m\u001b[0;34m(\u001b[0m\u001b[0;34m'User_ID'\u001b[0m\u001b[0;34m)\u001b[0m\u001b[0;34m[\u001b[0m\u001b[0;34m'Purchase'\u001b[0m\u001b[0;34m]\u001b[0m\u001b[0;34m.\u001b[0m\u001b[0msum\u001b[0m\u001b[0;34m(\u001b[0m\u001b[0;34m)\u001b[0m\u001b[0;34m\u001b[0m\u001b[0m\n\u001b[0m\u001b[1;32m      3\u001b[0m \u001b[0mamount\u001b[0m\u001b[0;34m=\u001b[0m\u001b[0mpd\u001b[0m\u001b[0;34m.\u001b[0m\u001b[0mDataFrame\u001b[0m\u001b[0;34m(\u001b[0m\u001b[0mdata\u001b[0m\u001b[0;34m=\u001b[0m\u001b[0mamount\u001b[0m\u001b[0;34m)\u001b[0m\u001b[0;34m.\u001b[0m\u001b[0mreset_index\u001b[0m\u001b[0;34m(\u001b[0m\u001b[0;34m)\u001b[0m\u001b[0;34m\u001b[0m\u001b[0m\n\u001b[1;32m      4\u001b[0m \u001b[0mdf\u001b[0m\u001b[0;34m=\u001b[0m\u001b[0mpd\u001b[0m\u001b[0;34m.\u001b[0m\u001b[0mmerge\u001b[0m\u001b[0;34m(\u001b[0m\u001b[0mdf\u001b[0m\u001b[0;34m,\u001b[0m\u001b[0mamount\u001b[0m\u001b[0;34m,\u001b[0m \u001b[0mon\u001b[0m \u001b[0;34m=\u001b[0m\u001b[0;34m'User_ID'\u001b[0m\u001b[0;34m)\u001b[0m\u001b[0;34m\u001b[0m\u001b[0m\n\u001b[1;32m      5\u001b[0m \u001b[0mdf\u001b[0m\u001b[0;34m=\u001b[0m\u001b[0mdf\u001b[0m\u001b[0;34m.\u001b[0m\u001b[0mrename\u001b[0m\u001b[0;34m(\u001b[0m \u001b[0mcolumns\u001b[0m\u001b[0;34m=\u001b[0m\u001b[0;34m{\u001b[0m\u001b[0;34m\"Purchase_y\"\u001b[0m\u001b[0;34m:\u001b[0m \u001b[0;34m\"Amount_user_spent\"\u001b[0m\u001b[0;34m,\u001b[0m \u001b[0;34m\"User_ID_x\"\u001b[0m\u001b[0;34m:\u001b[0m\u001b[0;34m\"User_ID\"\u001b[0m\u001b[0;34m}\u001b[0m\u001b[0;34m)\u001b[0m\u001b[0;34m\u001b[0m\u001b[0m\n",
      "\u001b[0;32m~/miniconda3/lib/python3.6/site-packages/pandas/core/generic.py\u001b[0m in \u001b[0;36mgroupby\u001b[0;34m(self, by, axis, level, as_index, sort, group_keys, squeeze, observed, **kwargs)\u001b[0m\n\u001b[1;32m   6663\u001b[0m         return groupby(self, by=by, axis=axis, level=level, as_index=as_index,\n\u001b[1;32m   6664\u001b[0m                        \u001b[0msort\u001b[0m\u001b[0;34m=\u001b[0m\u001b[0msort\u001b[0m\u001b[0;34m,\u001b[0m \u001b[0mgroup_keys\u001b[0m\u001b[0;34m=\u001b[0m\u001b[0mgroup_keys\u001b[0m\u001b[0;34m,\u001b[0m \u001b[0msqueeze\u001b[0m\u001b[0;34m=\u001b[0m\u001b[0msqueeze\u001b[0m\u001b[0;34m,\u001b[0m\u001b[0;34m\u001b[0m\u001b[0m\n\u001b[0;32m-> 6665\u001b[0;31m                        observed=observed, **kwargs)\n\u001b[0m\u001b[1;32m   6666\u001b[0m \u001b[0;34m\u001b[0m\u001b[0m\n\u001b[1;32m   6667\u001b[0m     def asfreq(self, freq, method=None, how=None, normalize=False,\n",
      "\u001b[0;32m~/miniconda3/lib/python3.6/site-packages/pandas/core/groupby/groupby.py\u001b[0m in \u001b[0;36mgroupby\u001b[0;34m(obj, by, **kwds)\u001b[0m\n\u001b[1;32m   2150\u001b[0m         \u001b[0;32mraise\u001b[0m \u001b[0mTypeError\u001b[0m\u001b[0;34m(\u001b[0m\u001b[0;34m'invalid type: %s'\u001b[0m \u001b[0;34m%\u001b[0m \u001b[0mtype\u001b[0m\u001b[0;34m(\u001b[0m\u001b[0mobj\u001b[0m\u001b[0;34m)\u001b[0m\u001b[0;34m)\u001b[0m\u001b[0;34m\u001b[0m\u001b[0m\n\u001b[1;32m   2151\u001b[0m \u001b[0;34m\u001b[0m\u001b[0m\n\u001b[0;32m-> 2152\u001b[0;31m     \u001b[0;32mreturn\u001b[0m \u001b[0mklass\u001b[0m\u001b[0;34m(\u001b[0m\u001b[0mobj\u001b[0m\u001b[0;34m,\u001b[0m \u001b[0mby\u001b[0m\u001b[0;34m,\u001b[0m \u001b[0;34m**\u001b[0m\u001b[0mkwds\u001b[0m\u001b[0;34m)\u001b[0m\u001b[0;34m\u001b[0m\u001b[0m\n\u001b[0m\u001b[1;32m   2153\u001b[0m \u001b[0;34m\u001b[0m\u001b[0m\n\u001b[1;32m   2154\u001b[0m \u001b[0;34m\u001b[0m\u001b[0m\n",
      "\u001b[0;32m~/miniconda3/lib/python3.6/site-packages/pandas/core/groupby/groupby.py\u001b[0m in \u001b[0;36m__init__\u001b[0;34m(self, obj, keys, axis, level, grouper, exclusions, selection, as_index, sort, group_keys, squeeze, observed, **kwargs)\u001b[0m\n\u001b[1;32m    597\u001b[0m                                                     \u001b[0msort\u001b[0m\u001b[0;34m=\u001b[0m\u001b[0msort\u001b[0m\u001b[0;34m,\u001b[0m\u001b[0;34m\u001b[0m\u001b[0m\n\u001b[1;32m    598\u001b[0m                                                     \u001b[0mobserved\u001b[0m\u001b[0;34m=\u001b[0m\u001b[0mobserved\u001b[0m\u001b[0;34m,\u001b[0m\u001b[0;34m\u001b[0m\u001b[0m\n\u001b[0;32m--> 599\u001b[0;31m                                                     mutated=self.mutated)\n\u001b[0m\u001b[1;32m    600\u001b[0m \u001b[0;34m\u001b[0m\u001b[0m\n\u001b[1;32m    601\u001b[0m         \u001b[0mself\u001b[0m\u001b[0;34m.\u001b[0m\u001b[0mobj\u001b[0m \u001b[0;34m=\u001b[0m \u001b[0mobj\u001b[0m\u001b[0;34m\u001b[0m\u001b[0m\n",
      "\u001b[0;32m~/miniconda3/lib/python3.6/site-packages/pandas/core/groupby/groupby.py\u001b[0m in \u001b[0;36m_get_grouper\u001b[0;34m(obj, key, axis, level, sort, observed, mutated, validate)\u001b[0m\n\u001b[1;32m   3289\u001b[0m                 \u001b[0min_axis\u001b[0m\u001b[0;34m,\u001b[0m \u001b[0mname\u001b[0m\u001b[0;34m,\u001b[0m \u001b[0mlevel\u001b[0m\u001b[0;34m,\u001b[0m \u001b[0mgpr\u001b[0m \u001b[0;34m=\u001b[0m \u001b[0;32mFalse\u001b[0m\u001b[0;34m,\u001b[0m \u001b[0;32mNone\u001b[0m\u001b[0;34m,\u001b[0m \u001b[0mgpr\u001b[0m\u001b[0;34m,\u001b[0m \u001b[0;32mNone\u001b[0m\u001b[0;34m\u001b[0m\u001b[0m\n\u001b[1;32m   3290\u001b[0m             \u001b[0;32melse\u001b[0m\u001b[0;34m:\u001b[0m\u001b[0;34m\u001b[0m\u001b[0m\n\u001b[0;32m-> 3291\u001b[0;31m                 \u001b[0;32mraise\u001b[0m \u001b[0mKeyError\u001b[0m\u001b[0;34m(\u001b[0m\u001b[0mgpr\u001b[0m\u001b[0;34m)\u001b[0m\u001b[0;34m\u001b[0m\u001b[0m\n\u001b[0m\u001b[1;32m   3292\u001b[0m         \u001b[0;32melif\u001b[0m \u001b[0misinstance\u001b[0m\u001b[0;34m(\u001b[0m\u001b[0mgpr\u001b[0m\u001b[0;34m,\u001b[0m \u001b[0mGrouper\u001b[0m\u001b[0;34m)\u001b[0m \u001b[0;32mand\u001b[0m \u001b[0mgpr\u001b[0m\u001b[0;34m.\u001b[0m\u001b[0mkey\u001b[0m \u001b[0;32mis\u001b[0m \u001b[0;32mnot\u001b[0m \u001b[0;32mNone\u001b[0m\u001b[0;34m:\u001b[0m\u001b[0;34m\u001b[0m\u001b[0m\n\u001b[1;32m   3293\u001b[0m             \u001b[0;31m# Add key to exclusions\u001b[0m\u001b[0;34m\u001b[0m\u001b[0;34m\u001b[0m\u001b[0m\n",
      "\u001b[0;31mKeyError\u001b[0m: 'User_ID'"
     ]
    }
   ],
   "source": [
    "#amount spent in the store by each user to identify high spenders\n",
    "amount=df.groupby('User_ID')['Purchase'].sum()\n",
    "amount=pd.DataFrame(data=amount).reset_index() \n",
    "df=pd.merge(df,amount, on ='User_ID')\n",
    "df=df.rename( columns={\"Purchase_y\": \"Amount_user_spent\", \"User_ID_x\":\"User_ID\"})"
   ]
  },
  {
   "cell_type": "code",
   "execution_count": 205,
   "metadata": {},
   "outputs": [
    {
     "data": {
      "text/plain": [
       "count    5.500680e+05\n",
       "mean     1.925314e+06\n",
       "std      1.489901e+06\n",
       "min      4.668100e+04\n",
       "25%      7.885630e+05\n",
       "50%      1.564596e+06\n",
       "75%      2.669963e+06\n",
       "max      1.053691e+07\n",
       "Name: Amount_user_spent, dtype: float64"
      ]
     },
     "execution_count": 205,
     "metadata": {},
     "output_type": "execute_result"
    }
   ],
   "source": [
    "df.Amount_user_spent.describe()"
   ]
  },
  {
   "cell_type": "markdown",
   "metadata": {},
   "source": [
    "Customers spent a minimum of 46681 dollars in the store and a maximum of 10536909dollars. Customers who spent more than 2669963dollars are high spenders. It would be in interesting to see the number of items purchased vs amount spend in the store  (See section 2)."
   ]
  },
  {
   "cell_type": "code",
   "execution_count": 145,
   "metadata": {},
   "outputs": [
    {
     "data": {
      "text/html": [
       "<div>\n",
       "<style scoped>\n",
       "    .dataframe tbody tr th:only-of-type {\n",
       "        vertical-align: middle;\n",
       "    }\n",
       "\n",
       "    .dataframe tbody tr th {\n",
       "        vertical-align: top;\n",
       "    }\n",
       "\n",
       "    .dataframe thead th {\n",
       "        text-align: right;\n",
       "    }\n",
       "</style>\n",
       "<table border=\"1\" class=\"dataframe\">\n",
       "  <thead>\n",
       "    <tr style=\"text-align: right;\">\n",
       "      <th></th>\n",
       "      <th>User_ID</th>\n",
       "      <th>Product_ID</th>\n",
       "      <th>Gender</th>\n",
       "      <th>Age</th>\n",
       "      <th>Occupation</th>\n",
       "      <th>City_Category</th>\n",
       "      <th>Stay_In_Current_City_Years</th>\n",
       "      <th>Marital_Status</th>\n",
       "      <th>Product_Category_1</th>\n",
       "      <th>Product_Category_2</th>\n",
       "      <th>Product_Category_3</th>\n",
       "      <th>Purchase_x</th>\n",
       "      <th>Mean_Purchase_price</th>\n",
       "      <th>Min_purchase_price</th>\n",
       "      <th>Max_purchase_price</th>\n",
       "      <th>Discount</th>\n",
       "      <th>Amount_user_spent</th>\n",
       "    </tr>\n",
       "  </thead>\n",
       "  <tbody>\n",
       "    <tr>\n",
       "      <th>41865</th>\n",
       "      <td>1004277</td>\n",
       "      <td>P00214242</td>\n",
       "      <td>M</td>\n",
       "      <td>36-45</td>\n",
       "      <td>16</td>\n",
       "      <td>A</td>\n",
       "      <td>0</td>\n",
       "      <td>0</td>\n",
       "      <td>1</td>\n",
       "      <td>16.0</td>\n",
       "      <td>NaN</td>\n",
       "      <td>15729</td>\n",
       "      <td>12210.189055</td>\n",
       "      <td>3941</td>\n",
       "      <td>19614</td>\n",
       "      <td>79.907209</td>\n",
       "      <td>10536909</td>\n",
       "    </tr>\n",
       "    <tr>\n",
       "      <th>41966</th>\n",
       "      <td>1004277</td>\n",
       "      <td>P00119642</td>\n",
       "      <td>M</td>\n",
       "      <td>36-45</td>\n",
       "      <td>16</td>\n",
       "      <td>A</td>\n",
       "      <td>0</td>\n",
       "      <td>0</td>\n",
       "      <td>1</td>\n",
       "      <td>2.0</td>\n",
       "      <td>8.0</td>\n",
       "      <td>15167</td>\n",
       "      <td>15897.207161</td>\n",
       "      <td>3892</td>\n",
       "      <td>19708</td>\n",
       "      <td>80.251674</td>\n",
       "      <td>10536909</td>\n",
       "    </tr>\n",
       "    <tr>\n",
       "      <th>41964</th>\n",
       "      <td>1004277</td>\n",
       "      <td>P00335242</td>\n",
       "      <td>M</td>\n",
       "      <td>36-45</td>\n",
       "      <td>16</td>\n",
       "      <td>A</td>\n",
       "      <td>0</td>\n",
       "      <td>0</td>\n",
       "      <td>5</td>\n",
       "      <td>8.0</td>\n",
       "      <td>NaN</td>\n",
       "      <td>6917</td>\n",
       "      <td>5928.398352</td>\n",
       "      <td>1719</td>\n",
       "      <td>8888</td>\n",
       "      <td>80.659316</td>\n",
       "      <td>10536909</td>\n",
       "    </tr>\n",
       "    <tr>\n",
       "      <th>41963</th>\n",
       "      <td>1004277</td>\n",
       "      <td>P00128742</td>\n",
       "      <td>M</td>\n",
       "      <td>36-45</td>\n",
       "      <td>16</td>\n",
       "      <td>A</td>\n",
       "      <td>0</td>\n",
       "      <td>0</td>\n",
       "      <td>1</td>\n",
       "      <td>NaN</td>\n",
       "      <td>NaN</td>\n",
       "      <td>19494</td>\n",
       "      <td>12806.869388</td>\n",
       "      <td>3846</td>\n",
       "      <td>19700</td>\n",
       "      <td>80.477157</td>\n",
       "      <td>10536909</td>\n",
       "    </tr>\n",
       "    <tr>\n",
       "      <th>41962</th>\n",
       "      <td>1004277</td>\n",
       "      <td>P00326242</td>\n",
       "      <td>M</td>\n",
       "      <td>36-45</td>\n",
       "      <td>16</td>\n",
       "      <td>A</td>\n",
       "      <td>0</td>\n",
       "      <td>0</td>\n",
       "      <td>2</td>\n",
       "      <td>18.0</td>\n",
       "      <td>NaN</td>\n",
       "      <td>16425</td>\n",
       "      <td>12143.282486</td>\n",
       "      <td>3742</td>\n",
       "      <td>16486</td>\n",
       "      <td>77.301953</td>\n",
       "      <td>10536909</td>\n",
       "    </tr>\n",
       "    <tr>\n",
       "      <th>41961</th>\n",
       "      <td>1004277</td>\n",
       "      <td>P00313442</td>\n",
       "      <td>M</td>\n",
       "      <td>36-45</td>\n",
       "      <td>16</td>\n",
       "      <td>A</td>\n",
       "      <td>0</td>\n",
       "      <td>0</td>\n",
       "      <td>5</td>\n",
       "      <td>6.0</td>\n",
       "      <td>8.0</td>\n",
       "      <td>8625</td>\n",
       "      <td>6949.039216</td>\n",
       "      <td>1771</td>\n",
       "      <td>8905</td>\n",
       "      <td>80.112296</td>\n",
       "      <td>10536909</td>\n",
       "    </tr>\n",
       "    <tr>\n",
       "      <th>41960</th>\n",
       "      <td>1004277</td>\n",
       "      <td>P00357242</td>\n",
       "      <td>M</td>\n",
       "      <td>36-45</td>\n",
       "      <td>16</td>\n",
       "      <td>A</td>\n",
       "      <td>0</td>\n",
       "      <td>0</td>\n",
       "      <td>5</td>\n",
       "      <td>NaN</td>\n",
       "      <td>NaN</td>\n",
       "      <td>7017</td>\n",
       "      <td>7096.291667</td>\n",
       "      <td>1731</td>\n",
       "      <td>8900</td>\n",
       "      <td>80.550562</td>\n",
       "      <td>10536909</td>\n",
       "    </tr>\n",
       "    <tr>\n",
       "      <th>41959</th>\n",
       "      <td>1004277</td>\n",
       "      <td>P00352842</td>\n",
       "      <td>M</td>\n",
       "      <td>36-45</td>\n",
       "      <td>16</td>\n",
       "      <td>A</td>\n",
       "      <td>0</td>\n",
       "      <td>0</td>\n",
       "      <td>2</td>\n",
       "      <td>6.0</td>\n",
       "      <td>15.0</td>\n",
       "      <td>13196</td>\n",
       "      <td>11269.887701</td>\n",
       "      <td>3204</td>\n",
       "      <td>16455</td>\n",
       "      <td>80.528715</td>\n",
       "      <td>10536909</td>\n",
       "    </tr>\n",
       "    <tr>\n",
       "      <th>41958</th>\n",
       "      <td>1004277</td>\n",
       "      <td>P00326842</td>\n",
       "      <td>M</td>\n",
       "      <td>36-45</td>\n",
       "      <td>16</td>\n",
       "      <td>A</td>\n",
       "      <td>0</td>\n",
       "      <td>0</td>\n",
       "      <td>5</td>\n",
       "      <td>8.0</td>\n",
       "      <td>NaN</td>\n",
       "      <td>5295</td>\n",
       "      <td>4810.128713</td>\n",
       "      <td>1739</td>\n",
       "      <td>8838</td>\n",
       "      <td>80.323603</td>\n",
       "      <td>10536909</td>\n",
       "    </tr>\n",
       "    <tr>\n",
       "      <th>41957</th>\n",
       "      <td>1004277</td>\n",
       "      <td>P00193242</td>\n",
       "      <td>M</td>\n",
       "      <td>36-45</td>\n",
       "      <td>16</td>\n",
       "      <td>A</td>\n",
       "      <td>0</td>\n",
       "      <td>0</td>\n",
       "      <td>6</td>\n",
       "      <td>8.0</td>\n",
       "      <td>NaN</td>\n",
       "      <td>16476</td>\n",
       "      <td>14255.737864</td>\n",
       "      <td>4064</td>\n",
       "      <td>20668</td>\n",
       "      <td>80.336752</td>\n",
       "      <td>10536909</td>\n",
       "    </tr>\n",
       "  </tbody>\n",
       "</table>\n",
       "</div>"
      ],
      "text/plain": [
       "       User_ID Product_ID Gender    Age  Occupation City_Category  \\\n",
       "41865  1004277  P00214242      M  36-45          16             A   \n",
       "41966  1004277  P00119642      M  36-45          16             A   \n",
       "41964  1004277  P00335242      M  36-45          16             A   \n",
       "41963  1004277  P00128742      M  36-45          16             A   \n",
       "41962  1004277  P00326242      M  36-45          16             A   \n",
       "41961  1004277  P00313442      M  36-45          16             A   \n",
       "41960  1004277  P00357242      M  36-45          16             A   \n",
       "41959  1004277  P00352842      M  36-45          16             A   \n",
       "41958  1004277  P00326842      M  36-45          16             A   \n",
       "41957  1004277  P00193242      M  36-45          16             A   \n",
       "\n",
       "      Stay_In_Current_City_Years  Marital_Status  Product_Category_1  \\\n",
       "41865                          0               0                   1   \n",
       "41966                          0               0                   1   \n",
       "41964                          0               0                   5   \n",
       "41963                          0               0                   1   \n",
       "41962                          0               0                   2   \n",
       "41961                          0               0                   5   \n",
       "41960                          0               0                   5   \n",
       "41959                          0               0                   2   \n",
       "41958                          0               0                   5   \n",
       "41957                          0               0                   6   \n",
       "\n",
       "       Product_Category_2  Product_Category_3  Purchase_x  \\\n",
       "41865                16.0                 NaN       15729   \n",
       "41966                 2.0                 8.0       15167   \n",
       "41964                 8.0                 NaN        6917   \n",
       "41963                 NaN                 NaN       19494   \n",
       "41962                18.0                 NaN       16425   \n",
       "41961                 6.0                 8.0        8625   \n",
       "41960                 NaN                 NaN        7017   \n",
       "41959                 6.0                15.0       13196   \n",
       "41958                 8.0                 NaN        5295   \n",
       "41957                 8.0                 NaN       16476   \n",
       "\n",
       "       Mean_Purchase_price  Min_purchase_price  Max_purchase_price   Discount  \\\n",
       "41865         12210.189055                3941               19614  79.907209   \n",
       "41966         15897.207161                3892               19708  80.251674   \n",
       "41964          5928.398352                1719                8888  80.659316   \n",
       "41963         12806.869388                3846               19700  80.477157   \n",
       "41962         12143.282486                3742               16486  77.301953   \n",
       "41961          6949.039216                1771                8905  80.112296   \n",
       "41960          7096.291667                1731                8900  80.550562   \n",
       "41959         11269.887701                3204               16455  80.528715   \n",
       "41958          4810.128713                1739                8838  80.323603   \n",
       "41957         14255.737864                4064               20668  80.336752   \n",
       "\n",
       "       Amount_user_spent  \n",
       "41865           10536909  \n",
       "41966           10536909  \n",
       "41964           10536909  \n",
       "41963           10536909  \n",
       "41962           10536909  \n",
       "41961           10536909  \n",
       "41960           10536909  \n",
       "41959           10536909  \n",
       "41958           10536909  \n",
       "41957           10536909  "
      ]
     },
     "execution_count": 145,
     "metadata": {},
     "output_type": "execute_result"
    }
   ],
   "source": [
    "#identifying top 10 spenders\n",
    "df.sort_values('Amount_user_spent', ascending= False).head(10)"
   ]
  },
  {
   "cell_type": "markdown",
   "metadata": {},
   "source": [
    "**These are the top ten high spenders of the store. All of them belong to occupation 16 and are single men in the age group of 36-45 who recently moved to the city. Each of them bought 979 items from the store and got 77-81 percent discount on their purchases.**"
   ]
  },
  {
   "cell_type": "markdown",
   "metadata": {},
   "source": [
    "### 1.11. Spending pattern vs Age and Gender and Marital Status of customer"
   ]
  },
  {
   "cell_type": "code",
   "execution_count": 153,
   "metadata": {},
   "outputs": [
    {
     "name": "stderr",
     "output_type": "stream",
     "text": [
      "/Users/Faliha/miniconda3/lib/python3.6/site-packages/scipy/stats/stats.py:1713: FutureWarning: Using a non-tuple sequence for multidimensional indexing is deprecated; use `arr[tuple(seq)]` instead of `arr[seq]`. In the future this will be interpreted as an array index, `arr[np.array(seq)]`, which will result either in an error or a different result.\n",
      "  return np.add.reduce(sorted[indexer] * weights, axis=axis) / sumval\n"
     ]
    },
    {
     "data": {
      "image/png": "[encoded data removed]",
      "text/plain": [
       "<Figure size 1440x648 with 1 Axes>"
      ]
     },
     "metadata": {},
     "output_type": "display_data"
    }
   ],
   "source": [
    "\n",
    "#plot to see how age affects the overall  spending of the user\n",
    "plt.subplots(figsize=(20,9))\n",
    "sns.lineplot(x='Age',y='Amount_user_spent',hue='Gender', data=df, palette='deep')\n",
    "\n",
    "plt.title('Age vs Amount spent at the store', fontsize=18)\n",
    "plt.xlabel('Age of the User', fontsize=14)\n",
    "plt.ylabel('Total amount spent at the store', fontsize=14);"
   ]
  },
  {
   "cell_type": "markdown",
   "metadata": {},
   "source": [
    "**The above plot clearly shows that men and women belonging to the age group 26-35 definitely spend more in the store**. Men between the ages 26-50 spend the most in the store. However, women peak at 26-35 and then there is a gradual decrease in the spending pattern among older female customers.\n",
    "\n",
    "As discussed earlier, men spend more in the store than women do."
   ]
  },
  {
   "cell_type": "code",
   "execution_count": 174,
   "metadata": {
    "scrolled": true
   },
   "outputs": [
    {
     "name": "stderr",
     "output_type": "stream",
     "text": [
      "/Users/Faliha/miniconda3/lib/python3.6/site-packages/scipy/stats/stats.py:1713: FutureWarning: Using a non-tuple sequence for multidimensional indexing is deprecated; use `arr[tuple(seq)]` instead of `arr[seq]`. In the future this will be interpreted as an array index, `arr[np.array(seq)]`, which will result either in an error or a different result.\n",
      "  return np.add.reduce(sorted[indexer] * weights, axis=axis) / sumval\n"
     ]
    },
    {
     "data": {
      "image/png": "[encoded data removed]",
      "text/plain": [
       "<Figure size 1440x648 with 1 Axes>"
      ]
     },
     "metadata": {},
     "output_type": "display_data"
    }
   ],
   "source": [
    "\n",
    "#plot to see how age and gender affects the price of the item they buy\n",
    "plt.subplots(figsize=(20,9))\n",
    "sns.lineplot(x='Age',y='Purchase_x',hue='Gender', data=df, palette='deep')\n",
    "\n",
    "plt.title('Age vs Price of the item', fontsize=18)\n",
    "plt.xlabel('Age of the User', fontsize=14)\n",
    "plt.ylabel('Cost of the item', fontsize=14);"
   ]
  },
  {
   "cell_type": "markdown",
   "metadata": {},
   "source": [
    "**This plot interestingly shows that men on average buy items of the same price around 9300 dollars with sligh spike at age 51-55. However, there is a steady increase in the price of the item women buy as they get older Older women tend to buy more expensive items than younger women.\n",
    "This however, a contrast to what we saw in the earlier plot, this could mean older women buy few items that are expensive and younger women a lot of items that are cheaper.**\n",
    "\n",
    "It would also be interesting to see how the quanity of items the users buy changes with the age.(Section 2).\n",
    "\n",
    "We also looked at how the spending pattern of married vs single customer, and we didn't find anything interesting to puruse in that direction."
   ]
  },
  {
   "cell_type": "markdown",
   "metadata": {},
   "source": [
    "## 2. Feature engineering"
   ]
  },
  {
   "cell_type": "markdown",
   "metadata": {},
   "source": [
    "### 2.1 Number of items a customer bought  "
   ]
  },
  {
   "cell_type": "code",
   "execution_count": 154,
   "metadata": {},
   "outputs": [],
   "source": [
    "num=df.groupby('User_ID')['Product_ID'].count() #grouping by user id to count number of items each user bought \n",
    "numprod=pd.DataFrame(data=num).reset_index()\n",
    "df=pd.merge(df,numprod, on='User_ID')\n",
    "df=df.rename( columns={\"Product_ID_x\":\"Product_ID\",\"Product_ID_y\": \"User_prod_bought\"})"
   ]
  },
  {
   "cell_type": "code",
   "execution_count": 155,
   "metadata": {},
   "outputs": [
    {
     "data": {
      "text/plain": [
       "count    550068.000000\n",
       "mean        216.403401\n",
       "std         175.031150\n",
       "min           6.000000\n",
       "25%          82.000000\n",
       "50%         170.000000\n",
       "75%         303.000000\n",
       "90%         467.000000\n",
       "95%         558.000000\n",
       "max        1026.000000\n",
       "Name: User_prod_bought, dtype: float64"
      ]
     },
     "execution_count": 155,
     "metadata": {},
     "output_type": "execute_result"
    }
   ],
   "source": [
    "df.User_prod_bought.describe(percentiles=(0.25,0.50,.75,0.9,0.95))"
   ]
  },
  {
   "cell_type": "markdown",
   "metadata": {},
   "source": [
    "**Customers by a minimum of 6 to a maximum of 1026 items. 75 % of the customers buy less than 300 items. As seen in the plot below there are about 5 percent of the customers by more than 600 items.**"
   ]
  },
  {
   "cell_type": "code",
   "execution_count": 161,
   "metadata": {},
   "outputs": [
    {
     "data": {
      "text/plain": [
       "Text(0.5,0,'Items bought')"
      ]
     },
     "execution_count": 161,
     "metadata": {},
     "output_type": "execute_result"
    },
    {
     "data": {
      "image/png": "[encoded data removed]",
      "text/plain": [
       "<Figure size 432x288 with 1 Axes>"
      ]
     },
     "metadata": {},
     "output_type": "display_data"
    }
   ],
   "source": [
    "sns.boxplot(x=df[\"User_prod_bought\"])\n",
    "plt.title('Number of items a user bought ', fontsize=18)\n",
    "plt.xlabel('Items bought', fontsize=14)\n"
   ]
  },
  {
   "cell_type": "code",
   "execution_count": 162,
   "metadata": {},
   "outputs": [
    {
     "data": {
      "text/plain": [
       "Text(0.5,0,'Amount spent in the store')"
      ]
     },
     "execution_count": 162,
     "metadata": {},
     "output_type": "execute_result"
    },
    {
     "data": {
      "image/png": "[encoded data removed]",
      "text/plain": [
       "<Figure size 432x288 with 1 Axes>"
      ]
     },
     "metadata": {},
     "output_type": "display_data"
    }
   ],
   "source": [
    "sns.scatterplot(x='User_prod_bought', y='Amount_user_spent', data=df)\n",
    "plt.title('Number of items a user bought vs the amount they spent ', fontsize=18)\n",
    "plt.xlabel('Items bought', fontsize=14)\n",
    "plt.xlabel('Amount spent in the store', fontsize=14)"
   ]
  },
  {
   "cell_type": "markdown",
   "metadata": {},
   "source": [
    "**As expected the more a user buys the more money they spend.**"
   ]
  },
  {
   "cell_type": "code",
   "execution_count": 160,
   "metadata": {},
   "outputs": [
    {
     "name": "stderr",
     "output_type": "stream",
     "text": [
      "/Users/Faliha/miniconda3/lib/python3.6/site-packages/scipy/stats/stats.py:1713: FutureWarning: Using a non-tuple sequence for multidimensional indexing is deprecated; use `arr[tuple(seq)]` instead of `arr[seq]`. In the future this will be interpreted as an array index, `arr[np.array(seq)]`, which will result either in an error or a different result.\n",
      "  return np.add.reduce(sorted[indexer] * weights, axis=axis) / sumval\n"
     ]
    },
    {
     "data": {
      "image/png": "[encoded data removed]",
      "text/plain": [
       "<Figure size 1440x648 with 1 Axes>"
      ]
     },
     "metadata": {},
     "output_type": "display_data"
    }
   ],
   "source": [
    "\n",
    "#plot to see how age and gender affects the number of the items they buy\n",
    "plt.subplots(figsize=(20,9))\n",
    "sns.lineplot(x='Age',y='User_prod_bought',hue='Gender', data=df, palette='deep')\n",
    "\n",
    "plt.title('Age vs Number of items bought', fontsize=18)\n",
    "plt.xlabel('Age of the User', fontsize=14)\n",
    "plt.ylabel('Number of items bought', fontsize=14);"
   ]
  },
  {
   "cell_type": "markdown",
   "metadata": {},
   "source": [
    "**As discussed in section 1.10, younger women definitelty buy more items that older women. Men in their prime spending years of 26-50 buy more items that are expensive hence spending more in the store**"
   ]
  },
  {
   "cell_type": "markdown",
   "metadata": {},
   "source": [
    "### 2.2 . Quantity of an item sold"
   ]
  },
  {
   "cell_type": "code",
   "execution_count": 163,
   "metadata": {},
   "outputs": [],
   "source": [
    "#number of products of each type that were sold in total\n",
    "prdtcnt=df.groupby('Product_ID')['User_ID'].count()\n",
    "prdtcnt=pd.DataFrame(data=prdtcnt).reset_index()\n",
    "df=pd.merge(df,prdtcnt, on ='Product_ID')\n",
    "df=df.rename( columns={\"User_ID_y\": \"Quantity_sold\"})"
   ]
  },
  {
   "cell_type": "code",
   "execution_count": 164,
   "metadata": {},
   "outputs": [
    {
     "data": {
      "text/plain": [
       "count    550068.000000\n",
       "mean        450.477232\n",
       "std         363.357038\n",
       "min           1.000000\n",
       "25%         174.000000\n",
       "50%         357.000000\n",
       "75%         620.000000\n",
       "max        1880.000000\n",
       "Name: Quantity_sold, dtype: float64"
      ]
     },
     "execution_count": 164,
     "metadata": {},
     "output_type": "execute_result"
    }
   ],
   "source": [
    "df.Quantity_sold.describe()"
   ]
  },
  {
   "cell_type": "code",
   "execution_count": 166,
   "metadata": {},
   "outputs": [
    {
     "data": {
      "text/plain": [
       "Text(0.5,0,'Quantity')"
      ]
     },
     "execution_count": 166,
     "metadata": {},
     "output_type": "execute_result"
    },
    {
     "data": {
      "image/png": "[encoded data removed]",
      "text/plain": [
       "<Figure size 432x288 with 1 Axes>"
      ]
     },
     "metadata": {},
     "output_type": "display_data"
    }
   ],
   "source": [
    "sns.boxplot(x=df[\"Quantity_sold\"])\n",
    "plt.title('Quantity of product sold ', fontsize=18)\n",
    "plt.xlabel('Quantity', fontsize=14)"
   ]
  },
  {
   "cell_type": "code",
   "execution_count": 167,
   "metadata": {},
   "outputs": [
    {
     "data": {
      "text/plain": [
       "144"
      ]
     },
     "execution_count": 167,
     "metadata": {},
     "output_type": "execute_result"
    }
   ],
   "source": [
    "#number of items that were sold only once\n",
    "df[df['Quantity_sold']==1]['Product_ID'].nunique()"
   ]
  },
  {
   "cell_type": "markdown",
   "metadata": {},
   "source": [
    "More efforts can be made to promote these items or sell them for the discounted price to increase demand for this item."
   ]
  },
  {
   "cell_type": "markdown",
   "metadata": {},
   "source": [
    "**We looked to see which items didn't get an 80 % discount, and we found out that these 144 items that were sold only in 1 quantity were not discounted**. This could be for several reasons, either this was the last piece of the item and hence due to high demand for it (first come first serve basis ) no disocunt was given to these items.\n",
    "\n",
    "**We also found that one customer can buy only one quantity of each product.**"
   ]
  },
  {
   "cell_type": "code",
   "execution_count": 169,
   "metadata": {},
   "outputs": [
    {
     "data": {
      "text/plain": [
       "405"
      ]
     },
     "execution_count": 169,
     "metadata": {},
     "output_type": "execute_result"
    }
   ],
   "source": [
    "df[df['Discount']==0]['Purchase_x'].min() #min price of low quantity product"
   ]
  },
  {
   "cell_type": "code",
   "execution_count": 170,
   "metadata": {},
   "outputs": [
    {
     "data": {
      "text/plain": [
       "20323"
      ]
     },
     "execution_count": 170,
     "metadata": {},
     "output_type": "execute_result"
    }
   ],
   "source": [
    "df[df['Discount']==0]['Purchase_x'].max() #max price of low quantity product"
   ]
  },
  {
   "cell_type": "markdown",
   "metadata": {},
   "source": [
    "**These items ranged from 405 dollars to 20323 dollars in price** , hence supplemental information is needed to understand why these items weren't discounted and if they were only in 1 quantity because of inventory, demand or other factors. "
   ]
  },
  {
   "cell_type": "code",
   "execution_count": 171,
   "metadata": {},
   "outputs": [
    {
     "data": {
      "text/plain": [
       "153"
      ]
     },
     "execution_count": 171,
     "metadata": {},
     "output_type": "execute_result"
    }
   ],
   "source": [
    "#number of popular items\n",
    "df[df['Quantity_sold']>620]['Product_ID'].nunique()"
   ]
  },
  {
   "cell_type": "markdown",
   "metadata": {},
   "source": [
    "Among these popular items 153 of them are the most popular, more than 620 of these items have been sold out."
   ]
  },
  {
   "cell_type": "code",
   "execution_count": 187,
   "metadata": {},
   "outputs": [],
   "source": [
    "#creating a column for popular item \n",
    "def popularItem(column):\n",
    "\n",
    "    if column>620:\n",
    "        return 1\n",
    "    else:\n",
    "        return 0\n",
    "    \n",
    "df['Popular']=df['Quantity_sold'].apply(popularItem)"
   ]
  },
  {
   "cell_type": "code",
   "execution_count": null,
   "metadata": {},
   "outputs": [],
   "source": []
  }
 ],
 "metadata": {
  "kernelspec": {
   "display_name": "Python 3",
   "language": "python",
   "name": "python3"
  },
  "language_info": {
   "codemirror_mode": {
    "name": "ipython",
    "version": 3
   },
   "file_extension": ".py",
   "mimetype": "text/x-python",
   "name": "python",
   "nbconvert_exporter": "python",
   "pygments_lexer": "ipython3",
   "version": "3.6.5"
  }
 },
 "nbformat": 4,
 "nbformat_minor": 2
}
