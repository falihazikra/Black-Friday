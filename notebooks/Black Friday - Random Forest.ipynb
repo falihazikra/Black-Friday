{
 "cells": [
  {
   "cell_type": "code",
   "execution_count": 1,
   "metadata": {},
   "outputs": [],
   "source": [
    "import matplotlib\n",
    "import numpy as np\n",
    "import matplotlib.pyplot as plt\n",
    "import pandas as pd\n"
   ]
  },
  {
   "cell_type": "code",
   "execution_count": 66,
   "metadata": {},
   "outputs": [
    {
     "name": "stdout",
     "output_type": "stream",
     "text": [
      "/Users/Faliha/Dropbox/Faliha Zikra MIS @ SCU/Machine learning/MachineLearning\n"
     ]
    }
   ],
   "source": [
    "cd .."
   ]
  },
  {
   "cell_type": "code",
   "execution_count": 98,
   "metadata": {},
   "outputs": [],
   "source": [
    "df_train = pd.read_csv('new_df.csv')\n"
   ]
  },
  {
   "cell_type": "code",
   "execution_count": 99,
   "metadata": {},
   "outputs": [
    {
     "data": {
      "text/html": [
       "<div>\n",
       "<style scoped>\n",
       "    .dataframe tbody tr th:only-of-type {\n",
       "        vertical-align: middle;\n",
       "    }\n",
       "\n",
       "    .dataframe tbody tr th {\n",
       "        vertical-align: top;\n",
       "    }\n",
       "\n",
       "    .dataframe thead th {\n",
       "        text-align: right;\n",
       "    }\n",
       "</style>\n",
       "<table border=\"1\" class=\"dataframe\">\n",
       "  <thead>\n",
       "    <tr style=\"text-align: right;\">\n",
       "      <th></th>\n",
       "      <th>Unnamed: 0</th>\n",
       "      <th>User_ID_x</th>\n",
       "      <th>Product_ID_x</th>\n",
       "      <th>Gender</th>\n",
       "      <th>Age</th>\n",
       "      <th>Occupation</th>\n",
       "      <th>City_Category</th>\n",
       "      <th>Stay_In_Current_City_Years</th>\n",
       "      <th>Marital_Status</th>\n",
       "      <th>Product_Category_1</th>\n",
       "      <th>...</th>\n",
       "      <th>Max_purchase_price</th>\n",
       "      <th>Quantity_sold</th>\n",
       "      <th>Popular_item</th>\n",
       "      <th>Amount_user_spent</th>\n",
       "      <th>High_spender</th>\n",
       "      <th>User_category</th>\n",
       "      <th>Paid_more_avg</th>\n",
       "      <th>Num_Paid_more_avg</th>\n",
       "      <th>propHigh</th>\n",
       "      <th>luxury</th>\n",
       "    </tr>\n",
       "  </thead>\n",
       "  <tbody>\n",
       "    <tr>\n",
       "      <th>0</th>\n",
       "      <td>0</td>\n",
       "      <td>1000001</td>\n",
       "      <td>P00069042</td>\n",
       "      <td>F</td>\n",
       "      <td>0-17</td>\n",
       "      <td>10</td>\n",
       "      <td>A</td>\n",
       "      <td>2</td>\n",
       "      <td>0</td>\n",
       "      <td>3</td>\n",
       "      <td>...</td>\n",
       "      <td>13716</td>\n",
       "      <td>227</td>\n",
       "      <td>0</td>\n",
       "      <td>334093</td>\n",
       "      <td>0</td>\n",
       "      <td>1</td>\n",
       "      <td>0</td>\n",
       "      <td>19</td>\n",
       "      <td>0.542857</td>\n",
       "      <td>0</td>\n",
       "    </tr>\n",
       "    <tr>\n",
       "      <th>1</th>\n",
       "      <td>1</td>\n",
       "      <td>1000017</td>\n",
       "      <td>P00069042</td>\n",
       "      <td>M</td>\n",
       "      <td>51-55</td>\n",
       "      <td>1</td>\n",
       "      <td>C</td>\n",
       "      <td>0</td>\n",
       "      <td>0</td>\n",
       "      <td>3</td>\n",
       "      <td>...</td>\n",
       "      <td>13716</td>\n",
       "      <td>227</td>\n",
       "      <td>0</td>\n",
       "      <td>1425995</td>\n",
       "      <td>0</td>\n",
       "      <td>5</td>\n",
       "      <td>1</td>\n",
       "      <td>85</td>\n",
       "      <td>0.739130</td>\n",
       "      <td>1</td>\n",
       "    </tr>\n",
       "    <tr>\n",
       "      <th>2</th>\n",
       "      <td>2</td>\n",
       "      <td>1000023</td>\n",
       "      <td>P00069042</td>\n",
       "      <td>M</td>\n",
       "      <td>36-45</td>\n",
       "      <td>0</td>\n",
       "      <td>B</td>\n",
       "      <td>3</td>\n",
       "      <td>1</td>\n",
       "      <td>3</td>\n",
       "      <td>...</td>\n",
       "      <td>13716</td>\n",
       "      <td>227</td>\n",
       "      <td>0</td>\n",
       "      <td>1670998</td>\n",
       "      <td>0</td>\n",
       "      <td>6</td>\n",
       "      <td>0</td>\n",
       "      <td>60</td>\n",
       "      <td>0.350877</td>\n",
       "      <td>0</td>\n",
       "    </tr>\n",
       "    <tr>\n",
       "      <th>3</th>\n",
       "      <td>3</td>\n",
       "      <td>1000030</td>\n",
       "      <td>P00069042</td>\n",
       "      <td>F</td>\n",
       "      <td>36-45</td>\n",
       "      <td>7</td>\n",
       "      <td>C</td>\n",
       "      <td>3</td>\n",
       "      <td>0</td>\n",
       "      <td>3</td>\n",
       "      <td>...</td>\n",
       "      <td>13716</td>\n",
       "      <td>227</td>\n",
       "      <td>0</td>\n",
       "      <td>261584</td>\n",
       "      <td>0</td>\n",
       "      <td>1</td>\n",
       "      <td>0</td>\n",
       "      <td>10</td>\n",
       "      <td>0.322581</td>\n",
       "      <td>0</td>\n",
       "    </tr>\n",
       "    <tr>\n",
       "      <th>4</th>\n",
       "      <td>4</td>\n",
       "      <td>1000073</td>\n",
       "      <td>P00069042</td>\n",
       "      <td>M</td>\n",
       "      <td>18-25</td>\n",
       "      <td>4</td>\n",
       "      <td>A</td>\n",
       "      <td>4+</td>\n",
       "      <td>0</td>\n",
       "      <td>3</td>\n",
       "      <td>...</td>\n",
       "      <td>13716</td>\n",
       "      <td>227</td>\n",
       "      <td>0</td>\n",
       "      <td>1428303</td>\n",
       "      <td>0</td>\n",
       "      <td>5</td>\n",
       "      <td>0</td>\n",
       "      <td>70</td>\n",
       "      <td>0.522388</td>\n",
       "      <td>0</td>\n",
       "    </tr>\n",
       "  </tbody>\n",
       "</table>\n",
       "<p>5 rows × 26 columns</p>\n",
       "</div>"
      ],
      "text/plain": [
       "   Unnamed: 0  User_ID_x Product_ID_x Gender    Age  Occupation City_Category  \\\n",
       "0           0    1000001    P00069042      F   0-17          10             A   \n",
       "1           1    1000017    P00069042      M  51-55           1             C   \n",
       "2           2    1000023    P00069042      M  36-45           0             B   \n",
       "3           3    1000030    P00069042      F  36-45           7             C   \n",
       "4           4    1000073    P00069042      M  18-25           4             A   \n",
       "\n",
       "  Stay_In_Current_City_Years  Marital_Status  Product_Category_1   ...    \\\n",
       "0                          2               0                   3   ...     \n",
       "1                          0               0                   3   ...     \n",
       "2                          3               1                   3   ...     \n",
       "3                          3               0                   3   ...     \n",
       "4                         4+               0                   3   ...     \n",
       "\n",
       "   Max_purchase_price  Quantity_sold  Popular_item  Amount_user_spent  \\\n",
       "0               13716            227             0             334093   \n",
       "1               13716            227             0            1425995   \n",
       "2               13716            227             0            1670998   \n",
       "3               13716            227             0             261584   \n",
       "4               13716            227             0            1428303   \n",
       "\n",
       "   High_spender  User_category  Paid_more_avg  Num_Paid_more_avg  propHigh  \\\n",
       "0             0              1              0                 19  0.542857   \n",
       "1             0              5              1                 85  0.739130   \n",
       "2             0              6              0                 60  0.350877   \n",
       "3             0              1              0                 10  0.322581   \n",
       "4             0              5              0                 70  0.522388   \n",
       "\n",
       "   luxury  \n",
       "0       0  \n",
       "1       1  \n",
       "2       0  \n",
       "3       0  \n",
       "4       0  \n",
       "\n",
       "[5 rows x 26 columns]"
      ]
     },
     "execution_count": 99,
     "metadata": {},
     "output_type": "execute_result"
    }
   ],
   "source": [
    "df_train.head()"
   ]
  },
  {
   "cell_type": "code",
   "execution_count": 100,
   "metadata": {},
   "outputs": [],
   "source": [
    "df_train['Product_ID_x'] = df_train['Product_ID_x'].str[1:]# Drop the first character ‘P’ from product id\n",
    "df_train = df_train.astype({'Product_ID_x':int}) # Recast all strings as ints"
   ]
  },
  {
   "cell_type": "code",
   "execution_count": 101,
   "metadata": {},
   "outputs": [],
   "source": [
    "df_train.drop(['Unnamed: 0','Product_Category_3','Product_Category_2', 'Mean_Purchase_price', 'Min_purchase_price', 'Max_purchase_price',\n",
    "         'luxury', 'Amount_user_spent','High_spender','Paid_more_avg', 'Num_Paid_more_avg', 'propHigh'], axis=1, inplace=True)"
   ]
  },
  {
   "cell_type": "code",
   "execution_count": 102,
   "metadata": {},
   "outputs": [],
   "source": [
    "df=pd.get_dummies(df_train, columns=['Gender','Age','Occupation','City_Category','Stay_In_Current_City_Years'])"
   ]
  },
  {
   "cell_type": "code",
   "execution_count": 103,
   "metadata": {},
   "outputs": [
    {
     "data": {
      "text/plain": [
       "Index(['User_ID_x', 'Product_ID_x', 'Marital_Status', 'Product_Category_1',\n",
       "       'Purchase_price_x', 'User_prod_bought', 'Quantity_sold', 'Popular_item',\n",
       "       'User_category', 'Gender_F', 'Gender_M', 'Age_0-17', 'Age_18-25',\n",
       "       'Age_26-35', 'Age_36-45', 'Age_46-50', 'Age_51-55', 'Age_55+',\n",
       "       'Occupation_0', 'Occupation_1', 'Occupation_2', 'Occupation_3',\n",
       "       'Occupation_4', 'Occupation_5', 'Occupation_6', 'Occupation_7',\n",
       "       'Occupation_8', 'Occupation_9', 'Occupation_10', 'Occupation_11',\n",
       "       'Occupation_12', 'Occupation_13', 'Occupation_14', 'Occupation_15',\n",
       "       'Occupation_16', 'Occupation_17', 'Occupation_18', 'Occupation_19',\n",
       "       'Occupation_20', 'City_Category_A', 'City_Category_B',\n",
       "       'City_Category_C', 'Stay_In_Current_City_Years_0',\n",
       "       'Stay_In_Current_City_Years_1', 'Stay_In_Current_City_Years_2',\n",
       "       'Stay_In_Current_City_Years_3', 'Stay_In_Current_City_Years_4+'],\n",
       "      dtype='object')"
      ]
     },
     "execution_count": 103,
     "metadata": {},
     "output_type": "execute_result"
    }
   ],
   "source": [
    "df.columns"
   ]
  },
  {
   "cell_type": "code",
   "execution_count": 104,
   "metadata": {},
   "outputs": [],
   "source": [
    "# from sklearn.preprocessing import LabelEncoder\n",
    "# encoder = LabelEncoder()\n",
    "\n",
    "# df = df_train.apply(encoder.fit_transform)"
   ]
  },
  {
   "cell_type": "code",
   "execution_count": 105,
   "metadata": {},
   "outputs": [],
   "source": [
    "from sklearn.model_selection import train_test_split\n",
    "\n",
    "\n",
    "X_values = df.drop(columns=['Purchase_price_x',])\n",
    "y_values = df['Purchase_price_x']\n",
    "scaler = StandardScaler()\n",
    "\n",
    "X_train, X_test, y_train, y_test = train_test_split(X_values, y_values,test_size=0.20, random_state=42)\n",
    "\n"
   ]
  },
  {
   "cell_type": "code",
   "execution_count": 106,
   "metadata": {},
   "outputs": [
    {
     "name": "stdout",
     "output_type": "stream",
     "text": [
      "<class 'pandas.core.frame.DataFrame'>\n",
      "RangeIndex: 550068 entries, 0 to 550067\n",
      "Data columns (total 47 columns):\n",
      "User_ID_x                        550068 non-null int64\n",
      "Product_ID_x                     550068 non-null int64\n",
      "Marital_Status                   550068 non-null int64\n",
      "Product_Category_1               550068 non-null int64\n",
      "Purchase_price_x                 550068 non-null int64\n",
      "User_prod_bought                 550068 non-null int64\n",
      "Quantity_sold                    550068 non-null int64\n",
      "Popular_item                     550068 non-null int64\n",
      "User_category                    550068 non-null int64\n",
      "Gender_F                         550068 non-null uint8\n",
      "Gender_M                         550068 non-null uint8\n",
      "Age_0-17                         550068 non-null uint8\n",
      "Age_18-25                        550068 non-null uint8\n",
      "Age_26-35                        550068 non-null uint8\n",
      "Age_36-45                        550068 non-null uint8\n",
      "Age_46-50                        550068 non-null uint8\n",
      "Age_51-55                        550068 non-null uint8\n",
      "Age_55+                          550068 non-null uint8\n",
      "Occupation_0                     550068 non-null uint8\n",
      "Occupation_1                     550068 non-null uint8\n",
      "Occupation_2                     550068 non-null uint8\n",
      "Occupation_3                     550068 non-null uint8\n",
      "Occupation_4                     550068 non-null uint8\n",
      "Occupation_5                     550068 non-null uint8\n",
      "Occupation_6                     550068 non-null uint8\n",
      "Occupation_7                     550068 non-null uint8\n",
      "Occupation_8                     550068 non-null uint8\n",
      "Occupation_9                     550068 non-null uint8\n",
      "Occupation_10                    550068 non-null uint8\n",
      "Occupation_11                    550068 non-null uint8\n",
      "Occupation_12                    550068 non-null uint8\n",
      "Occupation_13                    550068 non-null uint8\n",
      "Occupation_14                    550068 non-null uint8\n",
      "Occupation_15                    550068 non-null uint8\n",
      "Occupation_16                    550068 non-null uint8\n",
      "Occupation_17                    550068 non-null uint8\n",
      "Occupation_18                    550068 non-null uint8\n",
      "Occupation_19                    550068 non-null uint8\n",
      "Occupation_20                    550068 non-null uint8\n",
      "City_Category_A                  550068 non-null uint8\n",
      "City_Category_B                  550068 non-null uint8\n",
      "City_Category_C                  550068 non-null uint8\n",
      "Stay_In_Current_City_Years_0     550068 non-null uint8\n",
      "Stay_In_Current_City_Years_1     550068 non-null uint8\n",
      "Stay_In_Current_City_Years_2     550068 non-null uint8\n",
      "Stay_In_Current_City_Years_3     550068 non-null uint8\n",
      "Stay_In_Current_City_Years_4+    550068 non-null uint8\n",
      "dtypes: int64(9), uint8(38)\n",
      "memory usage: 57.7 MB\n"
     ]
    }
   ],
   "source": [
    "df.info()"
   ]
  },
  {
   "cell_type": "code",
   "execution_count": 107,
   "metadata": {},
   "outputs": [
    {
     "data": {
      "text/plain": [
       "RandomForestRegressor(bootstrap=True, criterion='mse', max_depth=None,\n",
       "           max_features='auto', max_leaf_nodes=None,\n",
       "           min_impurity_decrease=0.0, min_impurity_split=None,\n",
       "           min_samples_leaf=1, min_samples_split=2,\n",
       "           min_weight_fraction_leaf=0.0, n_estimators=10, n_jobs=1,\n",
       "           oob_score=False, random_state=None, verbose=0, warm_start=False)"
      ]
     },
     "execution_count": 107,
     "metadata": {},
     "output_type": "execute_result"
    }
   ],
   "source": [
    "from sklearn.ensemble import RandomForestRegressor\n",
    "rfr= RandomForestRegressor()\n",
    "rfr.fit(X_train,y_train)"
   ]
  },
  {
   "cell_type": "code",
   "execution_count": 108,
   "metadata": {},
   "outputs": [],
   "source": [
    "y_pred = rfr.predict(X_test)"
   ]
  },
  {
   "cell_type": "code",
   "execution_count": 109,
   "metadata": {},
   "outputs": [
    {
     "data": {
      "text/plain": [
       "2739.7855357004382"
      ]
     },
     "execution_count": 109,
     "metadata": {},
     "output_type": "execute_result"
    }
   ],
   "source": [
    "from sklearn.metrics import mean_squared_error\n",
    "import math\n",
    "\n",
    "np.sqrt(mean_squared_error(y_test, y_pred))"
   ]
  },
  {
   "cell_type": "code",
   "execution_count": null,
   "metadata": {
    "scrolled": false
   },
   "outputs": [],
   "source": [
    "# from sklearn.model_selection import RandomizedSearchCV\n",
    "\n",
    "\n",
    "\n",
    "\n",
    "# max_features = ['auto', 'sqrt',0.2]\n",
    "# # Maximum number of levels in tree\n",
    "# max_depth = [int(x) for x in np.linspace(10, 110, num = 11)]\n",
    "\n",
    "# # Minimum number of samples required to split a node\n",
    "# min_samples_split = [2, 5, 7, 10]\n",
    "# # Minimum number of samples required at each leaf node\n",
    "# min_samples_leaf = [int(x) for x in np.linspace(1, 10, num = 5)]\n",
    "\n",
    "\n",
    "\n",
    "\n",
    "# # Number of trees in random forest\n",
    "# n_estimators = [int(x) for x in np.linspace(100, 2000, num = 50)]\n",
    "\n",
    "# bootstrap = [True]\n",
    "# # Create the random grid\n",
    "# random_grid = {'n_estimators': n_estimators,\n",
    "#                'max_features': max_features,\n",
    "#                'max_depth': max_depth,\n",
    "#                'min_samples_split': min_samples_split,\n",
    "#                'min_samples_leaf': min_samples_leaf,\n",
    "#                'bootstrap': bootstrap}\n"
   ]
  },
  {
   "cell_type": "code",
   "execution_count": null,
   "metadata": {},
   "outputs": [],
   "source": [
    "# # Use the random grid to search for best hyperparameters\n",
    "# # First create the base model to tune\n",
    "# from sklearn.ensemble import RandomForestRegressor\n",
    "\n",
    "# rf = RandomForestRegressor()\n",
    "# # Random search of parameters, using 3 fold cross validation, \n",
    "# # search across 100 different combinations, and use all available cores\n",
    "# rf_random = RandomizedSearchCV(estimator = rf, param_distributions = random_grid, n_iter = 100, cv = 3, \n",
    "#                                verbose=0, random_state=42, n_jobs = -1)\n",
    "# # Fit the random search model\n",
    "# rf_random.fit(X_train_ts, y_train)"
   ]
  },
  {
   "cell_type": "code",
   "execution_count": null,
   "metadata": {},
   "outputs": [],
   "source": [
    "# rf_random.best_estimator_"
   ]
  },
  {
   "cell_type": "code",
   "execution_count": null,
   "metadata": {},
   "outputs": [],
   "source": [
    "# rf_random.best_params_"
   ]
  },
  {
   "cell_type": "code",
   "execution_count": 110,
   "metadata": {},
   "outputs": [
    {
     "data": {
      "text/plain": [
       "<matplotlib.axes._subplots.AxesSubplot at 0x14326b9e8>"
      ]
     },
     "execution_count": 110,
     "metadata": {},
     "output_type": "execute_result"
    },
    {
     "data": {
      "image/png": "[encoded data removed]",
      "text/plain": [
       "<Figure size 432x288 with 1 Axes>"
      ]
     },
     "metadata": {},
     "output_type": "display_data"
    }
   ],
   "source": [
    "feat_importances = pd.Series(rfr.feature_importances_, index=X_train.columns)\n",
    "feat_importances.nlargest(10).plot(kind='barh')"
   ]
  },
  {
   "cell_type": "code",
   "execution_count": null,
   "metadata": {},
   "outputs": [],
   "source": []
  }
 ],
 "metadata": {
  "kernelspec": {
   "display_name": "Python 3",
   "language": "python",
   "name": "python3"
  },
  "language_info": {
   "codemirror_mode": {
    "name": "ipython",
    "version": 3
   },
   "file_extension": ".py",
   "mimetype": "text/x-python",
   "name": "python",
   "nbconvert_exporter": "python",
   "pygments_lexer": "ipython3",
   "version": "3.6.5"
  }
 },
 "nbformat": 4,
 "nbformat_minor": 2
}
